{
 "cells": [
  {
   "cell_type": "code",
   "execution_count": 1,
   "metadata": {},
   "outputs": [],
   "source": [
    "import pandas as pd\n",
    "import matplotlib.pyplot as plt\n",
    "from cmdstanpy import CmdStanModel"
   ]
  },
  {
   "cell_type": "code",
   "execution_count": 2,
   "metadata": {},
   "outputs": [],
   "source": [
    "data = pd.read_csv('heart.csv').dropna()"
   ]
  },
  {
   "cell_type": "code",
   "execution_count": 3,
   "metadata": {},
   "outputs": [
    {
     "data": {
      "text/html": [
       "<div>\n",
       "<style scoped>\n",
       "    .dataframe tbody tr th:only-of-type {\n",
       "        vertical-align: middle;\n",
       "    }\n",
       "\n",
       "    .dataframe tbody tr th {\n",
       "        vertical-align: top;\n",
       "    }\n",
       "\n",
       "    .dataframe thead th {\n",
       "        text-align: right;\n",
       "    }\n",
       "</style>\n",
       "<table border=\"1\" class=\"dataframe\">\n",
       "  <thead>\n",
       "    <tr style=\"text-align: right;\">\n",
       "      <th></th>\n",
       "      <th>age</th>\n",
       "      <th>trestbps</th>\n",
       "      <th>thalach</th>\n",
       "      <th>target</th>\n",
       "    </tr>\n",
       "  </thead>\n",
       "  <tbody>\n",
       "    <tr>\n",
       "      <th>0</th>\n",
       "      <td>63</td>\n",
       "      <td>145</td>\n",
       "      <td>150</td>\n",
       "      <td>1</td>\n",
       "    </tr>\n",
       "    <tr>\n",
       "      <th>1</th>\n",
       "      <td>37</td>\n",
       "      <td>130</td>\n",
       "      <td>187</td>\n",
       "      <td>1</td>\n",
       "    </tr>\n",
       "    <tr>\n",
       "      <th>2</th>\n",
       "      <td>41</td>\n",
       "      <td>130</td>\n",
       "      <td>172</td>\n",
       "      <td>1</td>\n",
       "    </tr>\n",
       "    <tr>\n",
       "      <th>3</th>\n",
       "      <td>56</td>\n",
       "      <td>120</td>\n",
       "      <td>178</td>\n",
       "      <td>1</td>\n",
       "    </tr>\n",
       "    <tr>\n",
       "      <th>4</th>\n",
       "      <td>57</td>\n",
       "      <td>120</td>\n",
       "      <td>163</td>\n",
       "      <td>1</td>\n",
       "    </tr>\n",
       "    <tr>\n",
       "      <th>...</th>\n",
       "      <td>...</td>\n",
       "      <td>...</td>\n",
       "      <td>...</td>\n",
       "      <td>...</td>\n",
       "    </tr>\n",
       "    <tr>\n",
       "      <th>298</th>\n",
       "      <td>57</td>\n",
       "      <td>140</td>\n",
       "      <td>123</td>\n",
       "      <td>0</td>\n",
       "    </tr>\n",
       "    <tr>\n",
       "      <th>299</th>\n",
       "      <td>45</td>\n",
       "      <td>110</td>\n",
       "      <td>132</td>\n",
       "      <td>0</td>\n",
       "    </tr>\n",
       "    <tr>\n",
       "      <th>300</th>\n",
       "      <td>68</td>\n",
       "      <td>144</td>\n",
       "      <td>141</td>\n",
       "      <td>0</td>\n",
       "    </tr>\n",
       "    <tr>\n",
       "      <th>301</th>\n",
       "      <td>57</td>\n",
       "      <td>130</td>\n",
       "      <td>115</td>\n",
       "      <td>0</td>\n",
       "    </tr>\n",
       "    <tr>\n",
       "      <th>302</th>\n",
       "      <td>57</td>\n",
       "      <td>130</td>\n",
       "      <td>174</td>\n",
       "      <td>0</td>\n",
       "    </tr>\n",
       "  </tbody>\n",
       "</table>\n",
       "<p>303 rows × 4 columns</p>\n",
       "</div>"
      ],
      "text/plain": [
       "     age  trestbps  thalach  target\n",
       "0     63       145      150       1\n",
       "1     37       130      187       1\n",
       "2     41       130      172       1\n",
       "3     56       120      178       1\n",
       "4     57       120      163       1\n",
       "..   ...       ...      ...     ...\n",
       "298   57       140      123       0\n",
       "299   45       110      132       0\n",
       "300   68       144      141       0\n",
       "301   57       130      115       0\n",
       "302   57       130      174       0\n",
       "\n",
       "[303 rows x 4 columns]"
      ]
     },
     "execution_count": 3,
     "metadata": {},
     "output_type": "execute_result"
    }
   ],
   "source": [
    "data1 = data[['age', 'trestbps', 'thalach', 'target']]\n",
    "data1"
   ]
  },
  {
   "cell_type": "markdown",
   "metadata": {},
   "source": [
    "**Posterior 1**"
   ]
  },
  {
   "cell_type": "code",
   "execution_count": 43,
   "metadata": {},
   "outputs": [
    {
     "name": "stderr",
     "output_type": "stream",
     "text": [
      "22:19:13 - cmdstanpy - INFO - compiling stan file /root/data-analytics/posterior1.stan to exe file /root/data-analytics/posterior1\n",
      "22:19:31 - cmdstanpy - INFO - compiled model executable: /root/data-analytics/posterior1\n",
      "22:19:31 - cmdstanpy - INFO - CmdStan start processing\n"
     ]
    },
    {
     "data": {
      "application/json": {
       "ascii": false,
       "bar_format": "{desc} |{bar}| {elapsed} {postfix[0][value]}",
       "colour": null,
       "elapsed": 0.015121221542358398,
       "initial": 0,
       "n": 0,
       "ncols": null,
       "nrows": null,
       "postfix": [
        {
         "value": "Status"
        }
       ],
       "prefix": "chain 1",
       "rate": null,
       "total": 12,
       "unit": "it",
       "unit_divisor": 1000,
       "unit_scale": false
      },
      "application/vnd.jupyter.widget-view+json": {
       "model_id": "8a10e4d25a3c4e9e91611f62e4671f0c",
       "version_major": 2,
       "version_minor": 0
      },
      "text/plain": [
       "chain 1 |          | 00:00 Status"
      ]
     },
     "metadata": {},
     "output_type": "display_data"
    },
    {
     "name": "stdout",
     "output_type": "stream",
     "text": [
      "                                                                                "
     ]
    },
    {
     "name": "stderr",
     "output_type": "stream",
     "text": [
      "22:19:32 - cmdstanpy - INFO - CmdStan done processing.\n"
     ]
    },
    {
     "name": "stdout",
     "output_type": "stream",
     "text": [
      "\n"
     ]
    }
   ],
   "source": [
    "posterior1_model = CmdStanModel(stan_file='posterior1.stan')\n",
    "data_model = {'N': len(data1), 'age': data1.iloc[:, 0], 'bps': data1.iloc[:, 1], 'thalach': data1.iloc[:, 2]}\n",
    "sim = posterior1_model.sample(data=data_model,\n",
    "                        iter_sampling=1,\n",
    "                        iter_warmup=1000,\n",
    "                        chains=1,\n",
    "                        fixed_param=False,\n",
    "                        seed=24252)\n",
    "posterior1 = sim.draws_pd()"
   ]
  },
  {
   "cell_type": "code",
   "execution_count": 18,
   "metadata": {},
   "outputs": [
    {
     "data": {
      "text/html": [
       "<div>\n",
       "<style scoped>\n",
       "    .dataframe tbody tr th:only-of-type {\n",
       "        vertical-align: middle;\n",
       "    }\n",
       "\n",
       "    .dataframe tbody tr th {\n",
       "        vertical-align: top;\n",
       "    }\n",
       "\n",
       "    .dataframe thead th {\n",
       "        text-align: right;\n",
       "    }\n",
       "</style>\n",
       "<table border=\"1\" class=\"dataframe\">\n",
       "  <thead>\n",
       "    <tr style=\"text-align: right;\">\n",
       "      <th></th>\n",
       "      <th>chain__</th>\n",
       "      <th>iter__</th>\n",
       "      <th>draw__</th>\n",
       "      <th>lp__</th>\n",
       "      <th>accept_stat__</th>\n",
       "      <th>combined_heart_disease_prob[1]</th>\n",
       "      <th>combined_heart_disease_prob[2]</th>\n",
       "      <th>combined_heart_disease_prob[3]</th>\n",
       "      <th>combined_heart_disease_prob[4]</th>\n",
       "      <th>combined_heart_disease_prob[5]</th>\n",
       "      <th>...</th>\n",
       "      <th>combined_heart_disease_prob[294]</th>\n",
       "      <th>combined_heart_disease_prob[295]</th>\n",
       "      <th>combined_heart_disease_prob[296]</th>\n",
       "      <th>combined_heart_disease_prob[297]</th>\n",
       "      <th>combined_heart_disease_prob[298]</th>\n",
       "      <th>combined_heart_disease_prob[299]</th>\n",
       "      <th>combined_heart_disease_prob[300]</th>\n",
       "      <th>combined_heart_disease_prob[301]</th>\n",
       "      <th>combined_heart_disease_prob[302]</th>\n",
       "      <th>combined_heart_disease_prob[303]</th>\n",
       "    </tr>\n",
       "  </thead>\n",
       "  <tbody>\n",
       "    <tr>\n",
       "      <th>0</th>\n",
       "      <td>1.0</td>\n",
       "      <td>1.0</td>\n",
       "      <td>1.0</td>\n",
       "      <td>0.0</td>\n",
       "      <td>0.0</td>\n",
       "      <td>0.484089</td>\n",
       "      <td>0.169422</td>\n",
       "      <td>0.459511</td>\n",
       "      <td>0.40424</td>\n",
       "      <td>0.24986</td>\n",
       "      <td>...</td>\n",
       "      <td>0.820771</td>\n",
       "      <td>0.412733</td>\n",
       "      <td>0.553838</td>\n",
       "      <td>0.701149</td>\n",
       "      <td>0.218755</td>\n",
       "      <td>0.600548</td>\n",
       "      <td>0.122684</td>\n",
       "      <td>0.574204</td>\n",
       "      <td>0.388655</td>\n",
       "      <td>0.324531</td>\n",
       "    </tr>\n",
       "  </tbody>\n",
       "</table>\n",
       "<p>1 rows × 308 columns</p>\n",
       "</div>"
      ],
      "text/plain": [
       "   chain__  iter__  draw__  lp__  accept_stat__  \\\n",
       "0      1.0     1.0     1.0   0.0            0.0   \n",
       "\n",
       "   combined_heart_disease_prob[1]  combined_heart_disease_prob[2]  \\\n",
       "0                        0.484089                        0.169422   \n",
       "\n",
       "   combined_heart_disease_prob[3]  combined_heart_disease_prob[4]  \\\n",
       "0                        0.459511                         0.40424   \n",
       "\n",
       "   combined_heart_disease_prob[5]  ...  combined_heart_disease_prob[294]  \\\n",
       "0                         0.24986  ...                          0.820771   \n",
       "\n",
       "   combined_heart_disease_prob[295]  combined_heart_disease_prob[296]  \\\n",
       "0                          0.412733                          0.553838   \n",
       "\n",
       "   combined_heart_disease_prob[297]  combined_heart_disease_prob[298]  \\\n",
       "0                          0.701149                          0.218755   \n",
       "\n",
       "   combined_heart_disease_prob[299]  combined_heart_disease_prob[300]  \\\n",
       "0                          0.600548                          0.122684   \n",
       "\n",
       "   combined_heart_disease_prob[301]  combined_heart_disease_prob[302]  \\\n",
       "0                          0.574204                          0.388655   \n",
       "\n",
       "   combined_heart_disease_prob[303]  \n",
       "0                          0.324531  \n",
       "\n",
       "[1 rows x 308 columns]"
      ]
     },
     "execution_count": 18,
     "metadata": {},
     "output_type": "execute_result"
    }
   ],
   "source": [
    "posterior1"
   ]
  },
  {
   "cell_type": "code",
   "execution_count": 44,
   "metadata": {},
   "outputs": [
    {
     "data": {
      "image/png": "[encoded data removed]",
      "text/plain": [
       "<Figure size 1296x432 with 3 Axes>"
      ]
     },
     "metadata": {
      "needs_background": "light"
     },
     "output_type": "display_data"
    }
   ],
   "source": [
    "fig, axs = plt.subplots(1, 3, figsize=(18, 6))\n",
    "\n",
    "# Plot 1: Probability of heart disease by age\n",
    "for i in range(len(data1)):\n",
    "    if i % 2:\n",
    "        if data1.iloc[i, 3]: # people with heart disease\n",
    "            axs[0].scatter(data1.iloc[i, 0], posterior1[f\"combined_heart_disease_prob[{i + 1}]\"], c='r')\n",
    "        else:                # people without heart disease\n",
    "            axs[0].scatter(data1.iloc[i, 0], posterior1[f\"combined_heart_disease_prob[{i + 1}]\"], c='g')\n",
    "axs[0].set_xlabel('Age')\n",
    "axs[0].set_ylabel('Probability of Heart Disease')\n",
    "axs[0].set_title('Probability of Heart Disease by Age')\n",
    "axs[0].axhline(y=0.5, color='red', linestyle='-')\n",
    "axs[0].grid()\n",
    "\n",
    "# Plot 2: Probability of heart disease by resting blood pressure\n",
    "for i in range(len(data1)):\n",
    "    if i % 2:\n",
    "        if data1.iloc[i, 3]:\n",
    "            axs[1].scatter(data1.iloc[i, 1], posterior1[f\"combined_heart_disease_prob[{i + 1}]\"], c='r')\n",
    "        else:\n",
    "            axs[1].scatter(data1.iloc[i, 1], posterior1[f\"combined_heart_disease_prob[{i + 1}]\"], c='g')\n",
    "axs[1].set_xlabel('Resting Blood Pressure')\n",
    "axs[1].set_ylabel('Probability of Heart Disease')\n",
    "axs[1].set_title('Probability of Heart Disease by Resting Blood Pressure')\n",
    "axs[1].axhline(y=0.5, color='red', linestyle='-')\n",
    "axs[1].grid()\n",
    "\n",
    "# Plot 3: Probability of heart disease by maximum heart rate achieved\n",
    "for i in range(len(data1)):\n",
    "    if i % 2:\n",
    "        if data1.iloc[i, 3]:\n",
    "            axs[2].scatter(data1.iloc[i, 2], posterior1[f\"combined_heart_disease_prob[{i + 1}]\"], c='r')\n",
    "        else:\n",
    "            axs[2].scatter(data1.iloc[i, 2], posterior1[f\"combined_heart_disease_prob[{i + 1}]\"], c='g')\n",
    "axs[2].set_xlabel('Maximum Heart Rate Achieved')\n",
    "axs[2].set_ylabel('Probability of Heart Disease')\n",
    "axs[2].set_title('Probability of Heart Disease by Maximum Heart Rate Achieved')\n",
    "axs[2].axhline(y=0.5, color='red', linestyle='-')\n",
    "axs[2].grid()\n",
    "\n",
    "# Adjust layout\n",
    "plt.tight_layout()\n",
    "plt.show()"
   ]
  }
 ],
 "metadata": {
  "kernelspec": {
   "display_name": "Python 3",
   "language": "python",
   "name": "python3"
  },
  "language_info": {
   "codemirror_mode": {
    "name": "ipython",
    "version": 3
   },
   "file_extension": ".py",
   "mimetype": "text/x-python",
   "name": "python",
   "nbconvert_exporter": "python",
   "pygments_lexer": "ipython3",
   "version": "3.12.2"
  }
 },
 "nbformat": 4,
 "nbformat_minor": 2
}
