{
 "cells": [
  {
   "cell_type": "code",
   "execution_count": 6,
   "metadata": {},
   "outputs": [],
   "source": [
    "import pandas as pd\n",
    "import numpy as np\n",
    "import matplotlib.pyplot as plt\n",
    "from cmdstanpy import CmdStanModel\n",
    "from sklearn.preprocessing import StandardScaler\n",
    "import seaborn as sns"
   ]
  },
  {
   "cell_type": "code",
   "execution_count": 7,
   "metadata": {},
   "outputs": [],
   "source": [
    "data = pd.read_csv('heart.csv').dropna()\n",
    "data_pd = data.copy()"
   ]
  },
  {
   "cell_type": "code",
   "execution_count": 8,
   "metadata": {},
   "outputs": [
    {
     "data": {
      "text/html": [
       "<div>\n",
       "<style scoped>\n",
       "    .dataframe tbody tr th:only-of-type {\n",
       "        vertical-align: middle;\n",
       "    }\n",
       "\n",
       "    .dataframe tbody tr th {\n",
       "        vertical-align: top;\n",
       "    }\n",
       "\n",
       "    .dataframe thead th {\n",
       "        text-align: right;\n",
       "    }\n",
       "</style>\n",
       "<table border=\"1\" class=\"dataframe\">\n",
       "  <thead>\n",
       "    <tr style=\"text-align: right;\">\n",
       "      <th></th>\n",
       "      <th>age</th>\n",
       "      <th>trestbps</th>\n",
       "      <th>thalach</th>\n",
       "    </tr>\n",
       "  </thead>\n",
       "  <tbody>\n",
       "    <tr>\n",
       "      <th>0</th>\n",
       "      <td>63</td>\n",
       "      <td>145</td>\n",
       "      <td>150</td>\n",
       "    </tr>\n",
       "    <tr>\n",
       "      <th>1</th>\n",
       "      <td>37</td>\n",
       "      <td>130</td>\n",
       "      <td>187</td>\n",
       "    </tr>\n",
       "    <tr>\n",
       "      <th>2</th>\n",
       "      <td>41</td>\n",
       "      <td>130</td>\n",
       "      <td>172</td>\n",
       "    </tr>\n",
       "    <tr>\n",
       "      <th>3</th>\n",
       "      <td>56</td>\n",
       "      <td>120</td>\n",
       "      <td>178</td>\n",
       "    </tr>\n",
       "    <tr>\n",
       "      <th>4</th>\n",
       "      <td>57</td>\n",
       "      <td>120</td>\n",
       "      <td>163</td>\n",
       "    </tr>\n",
       "    <tr>\n",
       "      <th>...</th>\n",
       "      <td>...</td>\n",
       "      <td>...</td>\n",
       "      <td>...</td>\n",
       "    </tr>\n",
       "    <tr>\n",
       "      <th>298</th>\n",
       "      <td>57</td>\n",
       "      <td>140</td>\n",
       "      <td>123</td>\n",
       "    </tr>\n",
       "    <tr>\n",
       "      <th>299</th>\n",
       "      <td>45</td>\n",
       "      <td>110</td>\n",
       "      <td>132</td>\n",
       "    </tr>\n",
       "    <tr>\n",
       "      <th>300</th>\n",
       "      <td>68</td>\n",
       "      <td>144</td>\n",
       "      <td>141</td>\n",
       "    </tr>\n",
       "    <tr>\n",
       "      <th>301</th>\n",
       "      <td>57</td>\n",
       "      <td>130</td>\n",
       "      <td>115</td>\n",
       "    </tr>\n",
       "    <tr>\n",
       "      <th>302</th>\n",
       "      <td>57</td>\n",
       "      <td>130</td>\n",
       "      <td>174</td>\n",
       "    </tr>\n",
       "  </tbody>\n",
       "</table>\n",
       "<p>303 rows × 3 columns</p>\n",
       "</div>"
      ],
      "text/plain": [
       "     age  trestbps  thalach\n",
       "0     63       145      150\n",
       "1     37       130      187\n",
       "2     41       130      172\n",
       "3     56       120      178\n",
       "4     57       120      163\n",
       "..   ...       ...      ...\n",
       "298   57       140      123\n",
       "299   45       110      132\n",
       "300   68       144      141\n",
       "301   57       130      115\n",
       "302   57       130      174\n",
       "\n",
       "[303 rows x 3 columns]"
      ]
     },
     "execution_count": 8,
     "metadata": {},
     "output_type": "execute_result"
    }
   ],
   "source": [
    "data1 = data[['age', 'trestbps', 'thalach']]\n",
    "data1"
   ]
  },
  {
   "cell_type": "code",
   "execution_count": 9,
   "metadata": {},
   "outputs": [
    {
     "data": {
      "text/html": [
       "<div>\n",
       "<style scoped>\n",
       "    .dataframe tbody tr th:only-of-type {\n",
       "        vertical-align: middle;\n",
       "    }\n",
       "\n",
       "    .dataframe tbody tr th {\n",
       "        vertical-align: top;\n",
       "    }\n",
       "\n",
       "    .dataframe thead th {\n",
       "        text-align: right;\n",
       "    }\n",
       "</style>\n",
       "<table border=\"1\" class=\"dataframe\">\n",
       "  <thead>\n",
       "    <tr style=\"text-align: right;\">\n",
       "      <th></th>\n",
       "      <th>age</th>\n",
       "      <th>trestbps</th>\n",
       "      <th>thalach</th>\n",
       "      <th>cp</th>\n",
       "      <th>chol</th>\n",
       "      <th>oldpeak</th>\n",
       "    </tr>\n",
       "  </thead>\n",
       "  <tbody>\n",
       "    <tr>\n",
       "      <th>0</th>\n",
       "      <td>63</td>\n",
       "      <td>145</td>\n",
       "      <td>150</td>\n",
       "      <td>3</td>\n",
       "      <td>233</td>\n",
       "      <td>2.3</td>\n",
       "    </tr>\n",
       "    <tr>\n",
       "      <th>1</th>\n",
       "      <td>37</td>\n",
       "      <td>130</td>\n",
       "      <td>187</td>\n",
       "      <td>2</td>\n",
       "      <td>250</td>\n",
       "      <td>3.5</td>\n",
       "    </tr>\n",
       "    <tr>\n",
       "      <th>2</th>\n",
       "      <td>41</td>\n",
       "      <td>130</td>\n",
       "      <td>172</td>\n",
       "      <td>1</td>\n",
       "      <td>204</td>\n",
       "      <td>1.4</td>\n",
       "    </tr>\n",
       "    <tr>\n",
       "      <th>3</th>\n",
       "      <td>56</td>\n",
       "      <td>120</td>\n",
       "      <td>178</td>\n",
       "      <td>1</td>\n",
       "      <td>236</td>\n",
       "      <td>0.8</td>\n",
       "    </tr>\n",
       "    <tr>\n",
       "      <th>4</th>\n",
       "      <td>57</td>\n",
       "      <td>120</td>\n",
       "      <td>163</td>\n",
       "      <td>0</td>\n",
       "      <td>354</td>\n",
       "      <td>0.6</td>\n",
       "    </tr>\n",
       "    <tr>\n",
       "      <th>...</th>\n",
       "      <td>...</td>\n",
       "      <td>...</td>\n",
       "      <td>...</td>\n",
       "      <td>...</td>\n",
       "      <td>...</td>\n",
       "      <td>...</td>\n",
       "    </tr>\n",
       "    <tr>\n",
       "      <th>298</th>\n",
       "      <td>57</td>\n",
       "      <td>140</td>\n",
       "      <td>123</td>\n",
       "      <td>0</td>\n",
       "      <td>241</td>\n",
       "      <td>0.2</td>\n",
       "    </tr>\n",
       "    <tr>\n",
       "      <th>299</th>\n",
       "      <td>45</td>\n",
       "      <td>110</td>\n",
       "      <td>132</td>\n",
       "      <td>3</td>\n",
       "      <td>264</td>\n",
       "      <td>1.2</td>\n",
       "    </tr>\n",
       "    <tr>\n",
       "      <th>300</th>\n",
       "      <td>68</td>\n",
       "      <td>144</td>\n",
       "      <td>141</td>\n",
       "      <td>0</td>\n",
       "      <td>193</td>\n",
       "      <td>3.4</td>\n",
       "    </tr>\n",
       "    <tr>\n",
       "      <th>301</th>\n",
       "      <td>57</td>\n",
       "      <td>130</td>\n",
       "      <td>115</td>\n",
       "      <td>0</td>\n",
       "      <td>131</td>\n",
       "      <td>1.2</td>\n",
       "    </tr>\n",
       "    <tr>\n",
       "      <th>302</th>\n",
       "      <td>57</td>\n",
       "      <td>130</td>\n",
       "      <td>174</td>\n",
       "      <td>1</td>\n",
       "      <td>236</td>\n",
       "      <td>0.0</td>\n",
       "    </tr>\n",
       "  </tbody>\n",
       "</table>\n",
       "<p>303 rows × 6 columns</p>\n",
       "</div>"
      ],
      "text/plain": [
       "     age  trestbps  thalach  cp  chol  oldpeak\n",
       "0     63       145      150   3   233      2.3\n",
       "1     37       130      187   2   250      3.5\n",
       "2     41       130      172   1   204      1.4\n",
       "3     56       120      178   1   236      0.8\n",
       "4     57       120      163   0   354      0.6\n",
       "..   ...       ...      ...  ..   ...      ...\n",
       "298   57       140      123   0   241      0.2\n",
       "299   45       110      132   3   264      1.2\n",
       "300   68       144      141   0   193      3.4\n",
       "301   57       130      115   0   131      1.2\n",
       "302   57       130      174   1   236      0.0\n",
       "\n",
       "[303 rows x 6 columns]"
      ]
     },
     "execution_count": 9,
     "metadata": {},
     "output_type": "execute_result"
    }
   ],
   "source": [
    "data2 = data[['age', 'trestbps', 'thalach', 'cp', 'chol', 'oldpeak']]\n",
    "data2"
   ]
  },
  {
   "cell_type": "code",
   "execution_count": 10,
   "metadata": {},
   "outputs": [],
   "source": [
    "target = data['target']"
   ]
  },
  {
   "cell_type": "code",
   "execution_count": 11,
   "metadata": {},
   "outputs": [],
   "source": [
    "scaler = StandardScaler()\n",
    "predictors_scaled = scaler.fit_transform(data1)\n",
    "stan_data = {\n",
    "    'N': predictors_scaled.shape[0],\n",
    "    'K': predictors_scaled.shape[1],\n",
    "    'X': predictors_scaled,\n",
    "    'y': target.values\n",
    "}\n",
    "\n",
    "model = CmdStanModel(stan_file='posterior1.stan')"
   ]
  },
  {
   "cell_type": "code",
   "execution_count": 12,
   "metadata": {},
   "outputs": [
    {
     "name": "stderr",
     "output_type": "stream",
     "text": [
      "16:15:06 - cmdstanpy - INFO - CmdStan start processing\n"
     ]
    },
    {
     "data": {
      "application/json": {
       "ascii": false,
       "bar_format": "{desc} |{bar}| {elapsed} {postfix[0][value]}",
       "colour": null,
       "elapsed": 0.00996708869934082,
       "initial": 0,
       "n": 0,
       "ncols": null,
       "nrows": null,
       "postfix": [
        {
         "value": "Status"
        }
       ],
       "prefix": "chain 1",
       "rate": null,
       "total": 32,
       "unit": "it",
       "unit_divisor": 1000,
       "unit_scale": false
      },
      "application/vnd.jupyter.widget-view+json": {
       "model_id": "16fff2a99dbe4521834be650575f163f",
       "version_major": 2,
       "version_minor": 0
      },
      "text/plain": [
       "chain 1 |          | 00:00 Status"
      ]
     },
     "metadata": {},
     "output_type": "display_data"
    },
    {
     "data": {
      "application/json": {
       "ascii": false,
       "bar_format": "{desc} |{bar}| {elapsed} {postfix[0][value]}",
       "colour": null,
       "elapsed": 0.0059931278228759766,
       "initial": 0,
       "n": 0,
       "ncols": null,
       "nrows": null,
       "postfix": [
        {
         "value": "Status"
        }
       ],
       "prefix": "chain 2",
       "rate": null,
       "total": 32,
       "unit": "it",
       "unit_divisor": 1000,
       "unit_scale": false
      },
      "application/vnd.jupyter.widget-view+json": {
       "model_id": "5c5f314e08fb40edade441ea4662b4fd",
       "version_major": 2,
       "version_minor": 0
      },
      "text/plain": [
       "chain 2 |          | 00:00 Status"
      ]
     },
     "metadata": {},
     "output_type": "display_data"
    },
    {
     "data": {
      "application/json": {
       "ascii": false,
       "bar_format": "{desc} |{bar}| {elapsed} {postfix[0][value]}",
       "colour": null,
       "elapsed": 0.00918722152709961,
       "initial": 0,
       "n": 0,
       "ncols": null,
       "nrows": null,
       "postfix": [
        {
         "value": "Status"
        }
       ],
       "prefix": "chain 3",
       "rate": null,
       "total": 32,
       "unit": "it",
       "unit_divisor": 1000,
       "unit_scale": false
      },
      "application/vnd.jupyter.widget-view+json": {
       "model_id": "222d3ec90c3b4b3d939c5a823cdff953",
       "version_major": 2,
       "version_minor": 0
      },
      "text/plain": [
       "chain 3 |          | 00:00 Status"
      ]
     },
     "metadata": {},
     "output_type": "display_data"
    },
    {
     "data": {
      "application/json": {
       "ascii": false,
       "bar_format": "{desc} |{bar}| {elapsed} {postfix[0][value]}",
       "colour": null,
       "elapsed": 0.00806879997253418,
       "initial": 0,
       "n": 0,
       "ncols": null,
       "nrows": null,
       "postfix": [
        {
         "value": "Status"
        }
       ],
       "prefix": "chain 4",
       "rate": null,
       "total": 32,
       "unit": "it",
       "unit_divisor": 1000,
       "unit_scale": false
      },
      "application/vnd.jupyter.widget-view+json": {
       "model_id": "977d2d3297244bfebed2a5c5eb9de6d0",
       "version_major": 2,
       "version_minor": 0
      },
      "text/plain": [
       "chain 4 |          | 00:00 Status"
      ]
     },
     "metadata": {},
     "output_type": "display_data"
    },
    {
     "name": "stdout",
     "output_type": "stream",
     "text": [
      "                                                                                                                                                                                                                                                                                                                                "
     ]
    },
    {
     "name": "stderr",
     "output_type": "stream",
     "text": [
      "16:15:07 - cmdstanpy - INFO - CmdStan done processing.\n"
     ]
    },
    {
     "name": "stdout",
     "output_type": "stream",
     "text": [
      "\n",
      "Predicted probability of heart disease: 0.68\n"
     ]
    },
    {
     "name": "stderr",
     "output_type": "stream",
     "text": [
      "/usr/local/lib/python3.12/site-packages/sklearn/base.py:493: UserWarning: X does not have valid feature names, but StandardScaler was fitted with feature names\n",
      "  warnings.warn(\n"
     ]
    },
    {
     "data": {
      "image/png": "[encoded data removed]",
      "text/plain": [
       "<Figure size 1080x504 with 1 Axes>"
      ]
     },
     "metadata": {
      "needs_background": "light"
     },
     "output_type": "display_data"
    },
    {
     "data": {
      "image/png": "[encoded data removed]",
      "text/plain": [
       "<Figure size 1080x504 with 1 Axes>"
      ]
     },
     "metadata": {
      "needs_background": "light"
     },
     "output_type": "display_data"
    },
    {
     "data": {
      "image/png": "[encoded data removed]",
      "text/plain": [
       "<Figure size 1080x504 with 1 Axes>"
      ]
     },
     "metadata": {
      "needs_background": "light"
     },
     "output_type": "display_data"
    }
   ],
   "source": [
    "fit = model.sample(data=stan_data, iter_sampling=2000, chains=4)\n",
    "\n",
    "results = fit.draws_pd()\n",
    "\n",
    "feature_names = ['age', 'trestbps', 'thalach']\n",
    "param_names = [f'beta[{i+1}]' for i in range(len(feature_names))]\n",
    "param_mapping = dict(zip(param_names, feature_names))\n",
    "\n",
    "beta_columns = [col for col in results.columns if col in param_mapping]\n",
    "\n",
    "beta_samples = results[beta_columns].values\n",
    "\n",
    "new_data = np.array([60, 140, 172])  # example new data point\n",
    "new_data_scaled = scaler.transform([new_data])\n",
    "\n",
    "def sigmoid(x):\n",
    "    return 1 / (1 + np.exp(-x))\n",
    "\n",
    "# Predictive probabilities from posterior samples\n",
    "pred_probs = sigmoid(np.dot(beta_samples, new_data_scaled.T))\n",
    "\n",
    "# Aggregate predictions\n",
    "predicted_prob = np.mean(pred_probs)\n",
    "print(f'Predicted probability of heart disease: {predicted_prob:.2f}')\n",
    "\n",
    "# Plot the posterior distributions in separate figures\n",
    "for column in beta_columns:\n",
    "    plt.figure(figsize=(15,7))\n",
    "    sns.histplot(results[column], kde=True)\n",
    "    param_name = param_mapping[column]\n",
    "    plt.title(f'Posterior Distribution of {param_name}')\n",
    "    plt.xlabel('Value')\n",
    "    plt.ylabel('Density')\n",
    "    plt.grid(True)\n",
    "    plt.show()"
   ]
  },
  {
   "cell_type": "code",
   "execution_count": 13,
   "metadata": {},
   "outputs": [
    {
     "name": "stdout",
     "output_type": "stream",
     "text": [
      "Predicted probability of heart disease for age 60: 0.27\n"
     ]
    }
   ],
   "source": [
    "# Sample from the posterior distribution of the age coefficient\n",
    "beta_age_samples = results['beta[1]'].values  # Assuming 'beta[1]' corresponds to 'age'\n",
    "\n",
    "# New data example: age = 60\n",
    "new_age = 82\n",
    "\n",
    "# Calculate the linear predictor (log-odds) for each sample\n",
    "log_odds = beta_age_samples * new_age\n",
    "\n",
    "# Convert log-odds to probability\n",
    "def sigmoid(x):\n",
    "    return 1 / (1 + np.exp(-x))\n",
    "\n",
    "probabilities = sigmoid(log_odds)\n",
    "\n",
    "# Aggregate the probabilities\n",
    "predicted_prob = np.mean(probabilities)\n",
    "print(f'Predicted probability of heart disease for age 60: {predicted_prob:.2f}')"
   ]
  },
  {
   "cell_type": "code",
   "execution_count": 14,
   "metadata": {},
   "outputs": [
    {
     "name": "stdout",
     "output_type": "stream",
     "text": [
      "Predicted probability of heart disease for trestbps 140: 0.02\n"
     ]
    }
   ],
   "source": [
    "# Sample from the posterior distribution of the trestbps coefficient\n",
    "beta_trestbps_samples = results['beta[2]'].values  # Assuming 'beta[2]' corresponds to 'trestbps'\n",
    "\n",
    "# New data example: trestbps = 140\n",
    "new_trestbps = 140\n",
    "\n",
    "# Calculate the linear predictor (log-odds) for each sample\n",
    "log_odds = beta_trestbps_samples * new_trestbps\n",
    "\n",
    "# Convert log-odds to probability\n",
    "def sigmoid(x):\n",
    "    return 1 / (1 + np.exp(-x))\n",
    "\n",
    "probabilities = sigmoid(log_odds)\n",
    "\n",
    "# Aggregate the probabilities\n",
    "predicted_prob = np.mean(probabilities)\n",
    "print(f'Predicted probability of heart disease for trestbps 140: {predicted_prob:.2f}')"
   ]
  }
 ],
 "metadata": {
  "kernelspec": {
   "display_name": "Python 3",
   "language": "python",
   "name": "python3"
  },
  "language_info": {
   "codemirror_mode": {
    "name": "ipython",
    "version": 3
   },
   "file_extension": ".py",
   "mimetype": "text/x-python",
   "name": "python",
   "nbconvert_exporter": "python",
   "pygments_lexer": "ipython3",
   "version": "3.12.2"
  }
 },
 "nbformat": 4,
 "nbformat_minor": 2
}
