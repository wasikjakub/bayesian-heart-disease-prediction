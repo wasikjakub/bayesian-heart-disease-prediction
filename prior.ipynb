{
 "cells": [
  {
   "cell_type": "code",
   "execution_count": 1,
   "metadata": {},
   "outputs": [],
   "source": [
    "import pandas as pd\n",
    "import matplotlib.pyplot as plt\n",
    "from cmdstanpy import CmdStanModel"
   ]
  },
  {
   "cell_type": "code",
   "execution_count": 2,
   "metadata": {},
   "outputs": [],
   "source": [
    "data = pd.read_csv('heart.csv').dropna()\n",
    "data_pd = data.copy()"
   ]
  },
  {
   "cell_type": "code",
   "execution_count": 3,
   "metadata": {},
   "outputs": [
    {
     "data": {
      "text/html": [
       "<div>\n",
       "<style scoped>\n",
       "    .dataframe tbody tr th:only-of-type {\n",
       "        vertical-align: middle;\n",
       "    }\n",
       "\n",
       "    .dataframe tbody tr th {\n",
       "        vertical-align: top;\n",
       "    }\n",
       "\n",
       "    .dataframe thead th {\n",
       "        text-align: right;\n",
       "    }\n",
       "</style>\n",
       "<table border=\"1\" class=\"dataframe\">\n",
       "  <thead>\n",
       "    <tr style=\"text-align: right;\">\n",
       "      <th></th>\n",
       "      <th>age</th>\n",
       "      <th>trestbps</th>\n",
       "      <th>thalach</th>\n",
       "    </tr>\n",
       "  </thead>\n",
       "  <tbody>\n",
       "    <tr>\n",
       "      <th>0</th>\n",
       "      <td>63</td>\n",
       "      <td>145</td>\n",
       "      <td>150</td>\n",
       "    </tr>\n",
       "    <tr>\n",
       "      <th>1</th>\n",
       "      <td>37</td>\n",
       "      <td>130</td>\n",
       "      <td>187</td>\n",
       "    </tr>\n",
       "    <tr>\n",
       "      <th>2</th>\n",
       "      <td>41</td>\n",
       "      <td>130</td>\n",
       "      <td>172</td>\n",
       "    </tr>\n",
       "    <tr>\n",
       "      <th>3</th>\n",
       "      <td>56</td>\n",
       "      <td>120</td>\n",
       "      <td>178</td>\n",
       "    </tr>\n",
       "    <tr>\n",
       "      <th>4</th>\n",
       "      <td>57</td>\n",
       "      <td>120</td>\n",
       "      <td>163</td>\n",
       "    </tr>\n",
       "    <tr>\n",
       "      <th>...</th>\n",
       "      <td>...</td>\n",
       "      <td>...</td>\n",
       "      <td>...</td>\n",
       "    </tr>\n",
       "    <tr>\n",
       "      <th>298</th>\n",
       "      <td>57</td>\n",
       "      <td>140</td>\n",
       "      <td>123</td>\n",
       "    </tr>\n",
       "    <tr>\n",
       "      <th>299</th>\n",
       "      <td>45</td>\n",
       "      <td>110</td>\n",
       "      <td>132</td>\n",
       "    </tr>\n",
       "    <tr>\n",
       "      <th>300</th>\n",
       "      <td>68</td>\n",
       "      <td>144</td>\n",
       "      <td>141</td>\n",
       "    </tr>\n",
       "    <tr>\n",
       "      <th>301</th>\n",
       "      <td>57</td>\n",
       "      <td>130</td>\n",
       "      <td>115</td>\n",
       "    </tr>\n",
       "    <tr>\n",
       "      <th>302</th>\n",
       "      <td>57</td>\n",
       "      <td>130</td>\n",
       "      <td>174</td>\n",
       "    </tr>\n",
       "  </tbody>\n",
       "</table>\n",
       "<p>303 rows × 3 columns</p>\n",
       "</div>"
      ],
      "text/plain": [
       "     age  trestbps  thalach\n",
       "0     63       145      150\n",
       "1     37       130      187\n",
       "2     41       130      172\n",
       "3     56       120      178\n",
       "4     57       120      163\n",
       "..   ...       ...      ...\n",
       "298   57       140      123\n",
       "299   45       110      132\n",
       "300   68       144      141\n",
       "301   57       130      115\n",
       "302   57       130      174\n",
       "\n",
       "[303 rows x 3 columns]"
      ]
     },
     "execution_count": 3,
     "metadata": {},
     "output_type": "execute_result"
    }
   ],
   "source": [
    "data1 = data[['age', 'trestbps', 'thalach']]\n",
    "data1"
   ]
  },
  {
   "cell_type": "code",
   "execution_count": 4,
   "metadata": {},
   "outputs": [
    {
     "data": {
      "text/html": [
       "<div>\n",
       "<style scoped>\n",
       "    .dataframe tbody tr th:only-of-type {\n",
       "        vertical-align: middle;\n",
       "    }\n",
       "\n",
       "    .dataframe tbody tr th {\n",
       "        vertical-align: top;\n",
       "    }\n",
       "\n",
       "    .dataframe thead th {\n",
       "        text-align: right;\n",
       "    }\n",
       "</style>\n",
       "<table border=\"1\" class=\"dataframe\">\n",
       "  <thead>\n",
       "    <tr style=\"text-align: right;\">\n",
       "      <th></th>\n",
       "      <th>age</th>\n",
       "      <th>trestbps</th>\n",
       "      <th>thalach</th>\n",
       "      <th>cp</th>\n",
       "      <th>chol</th>\n",
       "      <th>oldpeak</th>\n",
       "    </tr>\n",
       "  </thead>\n",
       "  <tbody>\n",
       "    <tr>\n",
       "      <th>0</th>\n",
       "      <td>63</td>\n",
       "      <td>145</td>\n",
       "      <td>150</td>\n",
       "      <td>3</td>\n",
       "      <td>233</td>\n",
       "      <td>2.3</td>\n",
       "    </tr>\n",
       "    <tr>\n",
       "      <th>1</th>\n",
       "      <td>37</td>\n",
       "      <td>130</td>\n",
       "      <td>187</td>\n",
       "      <td>2</td>\n",
       "      <td>250</td>\n",
       "      <td>3.5</td>\n",
       "    </tr>\n",
       "    <tr>\n",
       "      <th>2</th>\n",
       "      <td>41</td>\n",
       "      <td>130</td>\n",
       "      <td>172</td>\n",
       "      <td>1</td>\n",
       "      <td>204</td>\n",
       "      <td>1.4</td>\n",
       "    </tr>\n",
       "    <tr>\n",
       "      <th>3</th>\n",
       "      <td>56</td>\n",
       "      <td>120</td>\n",
       "      <td>178</td>\n",
       "      <td>1</td>\n",
       "      <td>236</td>\n",
       "      <td>0.8</td>\n",
       "    </tr>\n",
       "    <tr>\n",
       "      <th>4</th>\n",
       "      <td>57</td>\n",
       "      <td>120</td>\n",
       "      <td>163</td>\n",
       "      <td>0</td>\n",
       "      <td>354</td>\n",
       "      <td>0.6</td>\n",
       "    </tr>\n",
       "    <tr>\n",
       "      <th>...</th>\n",
       "      <td>...</td>\n",
       "      <td>...</td>\n",
       "      <td>...</td>\n",
       "      <td>...</td>\n",
       "      <td>...</td>\n",
       "      <td>...</td>\n",
       "    </tr>\n",
       "    <tr>\n",
       "      <th>298</th>\n",
       "      <td>57</td>\n",
       "      <td>140</td>\n",
       "      <td>123</td>\n",
       "      <td>0</td>\n",
       "      <td>241</td>\n",
       "      <td>0.2</td>\n",
       "    </tr>\n",
       "    <tr>\n",
       "      <th>299</th>\n",
       "      <td>45</td>\n",
       "      <td>110</td>\n",
       "      <td>132</td>\n",
       "      <td>3</td>\n",
       "      <td>264</td>\n",
       "      <td>1.2</td>\n",
       "    </tr>\n",
       "    <tr>\n",
       "      <th>300</th>\n",
       "      <td>68</td>\n",
       "      <td>144</td>\n",
       "      <td>141</td>\n",
       "      <td>0</td>\n",
       "      <td>193</td>\n",
       "      <td>3.4</td>\n",
       "    </tr>\n",
       "    <tr>\n",
       "      <th>301</th>\n",
       "      <td>57</td>\n",
       "      <td>130</td>\n",
       "      <td>115</td>\n",
       "      <td>0</td>\n",
       "      <td>131</td>\n",
       "      <td>1.2</td>\n",
       "    </tr>\n",
       "    <tr>\n",
       "      <th>302</th>\n",
       "      <td>57</td>\n",
       "      <td>130</td>\n",
       "      <td>174</td>\n",
       "      <td>1</td>\n",
       "      <td>236</td>\n",
       "      <td>0.0</td>\n",
       "    </tr>\n",
       "  </tbody>\n",
       "</table>\n",
       "<p>303 rows × 6 columns</p>\n",
       "</div>"
      ],
      "text/plain": [
       "     age  trestbps  thalach  cp  chol  oldpeak\n",
       "0     63       145      150   3   233      2.3\n",
       "1     37       130      187   2   250      3.5\n",
       "2     41       130      172   1   204      1.4\n",
       "3     56       120      178   1   236      0.8\n",
       "4     57       120      163   0   354      0.6\n",
       "..   ...       ...      ...  ..   ...      ...\n",
       "298   57       140      123   0   241      0.2\n",
       "299   45       110      132   3   264      1.2\n",
       "300   68       144      141   0   193      3.4\n",
       "301   57       130      115   0   131      1.2\n",
       "302   57       130      174   1   236      0.0\n",
       "\n",
       "[303 rows x 6 columns]"
      ]
     },
     "execution_count": 4,
     "metadata": {},
     "output_type": "execute_result"
    }
   ],
   "source": [
    "data2 = data[['age', 'trestbps', 'thalach', 'cp', 'chol', 'oldpeak']]\n",
    "data2"
   ]
  },
  {
   "cell_type": "markdown",
   "metadata": {},
   "source": [
    "**Prior model 1**"
   ]
  },
  {
   "cell_type": "markdown",
   "metadata": {},
   "source": [
    "Prior 1 - age"
   ]
  },
  {
   "cell_type": "code",
   "execution_count": 5,
   "metadata": {},
   "outputs": [
    {
     "name": "stderr",
     "output_type": "stream",
     "text": [
      "18:03:10 - cmdstanpy - INFO - CmdStan start processing\n"
     ]
    },
    {
     "data": {
      "application/json": {
       "ascii": false,
       "bar_format": "{desc} |{bar}| {elapsed} {postfix[0][value]}",
       "colour": null,
       "elapsed": 0.010931015014648438,
       "initial": 0,
       "n": 0,
       "ncols": null,
       "nrows": null,
       "postfix": [
        {
         "value": "Status"
        }
       ],
       "prefix": "chain 1",
       "rate": null,
       "total": 12,
       "unit": "it",
       "unit_divisor": 1000,
       "unit_scale": false
      },
      "application/vnd.jupyter.widget-view+json": {
       "model_id": "c632abcd579f49e18e8bd35a6c7e0cd0",
       "version_major": 2,
       "version_minor": 0
      },
      "text/plain": [
       "chain 1 |          | 00:00 Status"
      ]
     },
     "metadata": {},
     "output_type": "display_data"
    },
    {
     "name": "stdout",
     "output_type": "stream",
     "text": [
      "                                                                                "
     ]
    },
    {
     "name": "stderr",
     "output_type": "stream",
     "text": [
      "18:03:10 - cmdstanpy - INFO - CmdStan done processing.\n",
      "18:03:10 - cmdstanpy - WARNING - Non-fatal error during sampling:\n",
      "Exception: prior1_model_namespace::write_array: age is 29.5223, but must be greater than or equal to 30.000000 (in 'prior1.stan', line 4, column 4 to column 54)\n",
      "\tException: prior1_model_namespace::write_array: age is 27.4699, but must be greater than or equal to 30.000000 (in 'prior1.stan', line 4, column 4 to column 54)\n",
      "\tException: prior1_model_namespace::write_array: age is 99.0095, but must be less than or equal to 90.000000 (in 'prior1.stan', line 4, column 4 to column 54)\n",
      "Consider re-running with show_console=True if the above output is unclear!\n"
     ]
    },
    {
     "name": "stdout",
     "output_type": "stream",
     "text": [
      "\n"
     ]
    }
   ],
   "source": [
    "model_age = CmdStanModel(stan_file='prior1.stan')\n",
    "sim = model_age.sample(iter_sampling=50,\n",
    "                        iter_warmup=1000,\n",
    "                        chains=1,\n",
    "                        fixed_param=False,\n",
    "                        seed=24252)"
   ]
  },
  {
   "cell_type": "code",
   "execution_count": 6,
   "metadata": {},
   "outputs": [
    {
     "data": {
      "image/png": "[encoded data removed]",
      "text/plain": [
       "<Figure size 720x432 with 1 Axes>"
      ]
     },
     "metadata": {
      "needs_background": "light"
     },
     "output_type": "display_data"
    }
   ],
   "source": [
    "prior1 = sim.draws_pd()\n",
    "\n",
    "plt.figure(figsize=(10, 6))\n",
    "plt.scatter(prior1['age'], prior1['heart_disease_prob'], alpha=0.6)\n",
    "plt.axhline(y=0.5, color='red', linestyle='-')\n",
    "plt.xlabel('Age')\n",
    "plt.ylabel('Probability of Heart Disease')\n",
    "plt.title('Probability of Heart Disease by Age')\n",
    "plt.grid(True)\n",
    "plt.show()"
   ]
  },
  {
   "cell_type": "markdown",
   "metadata": {},
   "source": [
    "Prior 2 - trestbps (resting blood pressure)"
   ]
  },
  {
   "cell_type": "code",
   "execution_count": 7,
   "metadata": {},
   "outputs": [
    {
     "name": "stderr",
     "output_type": "stream",
     "text": [
      "18:03:11 - cmdstanpy - INFO - CmdStan start processing\n"
     ]
    },
    {
     "data": {
      "application/json": {
       "ascii": false,
       "bar_format": "{desc} |{bar}| {elapsed} {postfix[0][value]}",
       "colour": null,
       "elapsed": 0.005212545394897461,
       "initial": 0,
       "n": 0,
       "ncols": null,
       "nrows": null,
       "postfix": [
        {
         "value": "Status"
        }
       ],
       "prefix": "chain 1",
       "rate": null,
       "total": 12,
       "unit": "it",
       "unit_divisor": 1000,
       "unit_scale": false
      },
      "application/vnd.jupyter.widget-view+json": {
       "model_id": "9a851e9f48d74d518df5f7ae6a695bc4",
       "version_major": 2,
       "version_minor": 0
      },
      "text/plain": [
       "chain 1 |          | 00:00 Status"
      ]
     },
     "metadata": {},
     "output_type": "display_data"
    },
    {
     "name": "stdout",
     "output_type": "stream",
     "text": [
      "                                                                                "
     ]
    },
    {
     "name": "stderr",
     "output_type": "stream",
     "text": [
      "18:03:11 - cmdstanpy - INFO - CmdStan done processing.\n",
      "18:03:11 - cmdstanpy - WARNING - Non-fatal error during sampling:\n",
      "Exception: prior2_model_namespace::write_array: bps is 86.2381, but must be greater than or equal to 94.000000 (in 'prior2.stan', line 4, column 4 to column 56)\n",
      "\tException: prior2_model_namespace::write_array: bps is 71.0283, but must be greater than or equal to 94.000000 (in 'prior2.stan', line 4, column 4 to column 56)\n",
      "\tException: prior2_model_namespace::write_array: bps is 210.229, but must be less than or equal to 200.000000 (in 'prior2.stan', line 4, column 4 to column 56)\n",
      "\tException: prior2_model_namespace::write_array: bps is 61.079, but must be greater than or equal to 94.000000 (in 'prior2.stan', line 4, column 4 to column 56)\n",
      "Consider re-running with show_console=True if the above output is unclear!\n"
     ]
    },
    {
     "name": "stdout",
     "output_type": "stream",
     "text": [
      "\n"
     ]
    }
   ],
   "source": [
    "model_age = CmdStanModel(stan_file='prior2.stan')\n",
    "sim = model_age.sample(iter_sampling=50,\n",
    "                        iter_warmup=1000,\n",
    "                        chains=1,\n",
    "                        seed=242522,)"
   ]
  },
  {
   "cell_type": "code",
   "execution_count": 8,
   "metadata": {},
   "outputs": [
    {
     "data": {
      "image/png": "[encoded data removed]",
      "text/plain": [
       "<Figure size 720x432 with 1 Axes>"
      ]
     },
     "metadata": {
      "needs_background": "light"
     },
     "output_type": "display_data"
    }
   ],
   "source": [
    "prior2 = sim.draws_pd()\n",
    "\n",
    "plt.figure(figsize=(10, 6))\n",
    "plt.scatter(prior2['bps'], prior2['heart_disease_prob'], alpha=0.6)\n",
    "plt.axhline(y=0.5, color='red', linestyle='-')\n",
    "plt.xlabel('Resting blood pressure')\n",
    "plt.ylabel('Probability of heart disease')\n",
    "plt.title('Probability of heart disease by resting blood pressure')\n",
    "plt.grid(True)\n",
    "plt.show()"
   ]
  },
  {
   "cell_type": "markdown",
   "metadata": {},
   "source": [
    "Prior 3 - thalach (maximum heart rate achieved)"
   ]
  },
  {
   "cell_type": "code",
   "execution_count": 9,
   "metadata": {},
   "outputs": [
    {
     "name": "stderr",
     "output_type": "stream",
     "text": [
      "18:03:11 - cmdstanpy - INFO - CmdStan start processing\n"
     ]
    },
    {
     "data": {
      "application/json": {
       "ascii": false,
       "bar_format": "{desc} |{bar}| {elapsed} {postfix[0][value]}",
       "colour": null,
       "elapsed": 0.0041391849517822266,
       "initial": 0,
       "n": 0,
       "ncols": null,
       "nrows": null,
       "postfix": [
        {
         "value": "Status"
        }
       ],
       "prefix": "chain 1",
       "rate": null,
       "total": 12,
       "unit": "it",
       "unit_divisor": 1000,
       "unit_scale": false
      },
      "application/vnd.jupyter.widget-view+json": {
       "model_id": "a592c74c9b914d0285b71670e0f9b246",
       "version_major": 2,
       "version_minor": 0
      },
      "text/plain": [
       "chain 1 |          | 00:00 Status"
      ]
     },
     "metadata": {},
     "output_type": "display_data"
    },
    {
     "name": "stdout",
     "output_type": "stream",
     "text": [
      "                                                                                "
     ]
    },
    {
     "name": "stderr",
     "output_type": "stream",
     "text": [
      "18:03:11 - cmdstanpy - INFO - CmdStan done processing.\n",
      "18:03:11 - cmdstanpy - WARNING - Non-fatal error during sampling:\n",
      "Exception: prior3_model_namespace::write_array: thalach is 61.0283, but must be greater than or equal to 70.000000 (in 'prior3.stan', line 4, column 4 to column 60)\n",
      "\tException: prior3_model_namespace::write_array: thalach is 200.229, but must be less than or equal to 190.000000 (in 'prior3.stan', line 4, column 4 to column 60)\n",
      "\tException: prior3_model_namespace::write_array: thalach is 51.079, but must be greater than or equal to 70.000000 (in 'prior3.stan', line 4, column 4 to column 60)\n",
      "Consider re-running with show_console=True if the above output is unclear!\n"
     ]
    },
    {
     "name": "stdout",
     "output_type": "stream",
     "text": [
      "\n"
     ]
    }
   ],
   "source": [
    "model_age = CmdStanModel(stan_file='prior3.stan')\n",
    "sim = model_age.sample(iter_sampling=50,\n",
    "                        iter_warmup=1000,\n",
    "                        chains=1,\n",
    "                        seed=242522,)"
   ]
  },
  {
   "cell_type": "code",
   "execution_count": 10,
   "metadata": {},
   "outputs": [
    {
     "data": {
      "image/png": "[encoded data removed]",
      "text/plain": [
       "<Figure size 720x432 with 1 Axes>"
      ]
     },
     "metadata": {
      "needs_background": "light"
     },
     "output_type": "display_data"
    }
   ],
   "source": [
    "prior3 = sim.draws_pd()\n",
    "\n",
    "plt.figure(figsize=(10, 6))\n",
    "plt.scatter(prior3['thalach'], prior3['heart_disease_prob'], alpha=0.6)\n",
    "plt.axhline(y=0.5, color='red', linestyle='-')\n",
    "plt.xlabel('Maximum heart rate achieved')\n",
    "plt.ylabel('Probability of heart disease')\n",
    "plt.title('Probability of heart disease by maximum heart rate achieved')\n",
    "plt.grid(True)\n",
    "plt.show()"
   ]
  },
  {
   "cell_type": "markdown",
   "metadata": {},
   "source": [
    "Prior 1 - combined"
   ]
  },
  {
   "cell_type": "code",
   "execution_count": 11,
   "metadata": {},
   "outputs": [
    {
     "name": "stderr",
     "output_type": "stream",
     "text": [
      "18:03:12 - cmdstanpy - INFO - CmdStan start processing\n"
     ]
    },
    {
     "data": {
      "application/json": {
       "ascii": false,
       "bar_format": "{desc} |{bar}| {elapsed} {postfix[0][value]}",
       "colour": null,
       "elapsed": 0.006655454635620117,
       "initial": 0,
       "n": 0,
       "ncols": null,
       "nrows": null,
       "postfix": [
        {
         "value": "Status"
        }
       ],
       "prefix": "chain 1",
       "rate": null,
       "total": 12,
       "unit": "it",
       "unit_divisor": 1000,
       "unit_scale": false
      },
      "application/vnd.jupyter.widget-view+json": {
       "model_id": "d9c17851a8ed41f3ad770582f58af78e",
       "version_major": 2,
       "version_minor": 0
      },
      "text/plain": [
       "chain 1 |          | 00:00 Status"
      ]
     },
     "metadata": {},
     "output_type": "display_data"
    },
    {
     "name": "stdout",
     "output_type": "stream",
     "text": [
      "                                                                                "
     ]
    },
    {
     "name": "stderr",
     "output_type": "stream",
     "text": [
      "18:03:12 - cmdstanpy - INFO - CmdStan done processing.\n",
      "18:03:12 - cmdstanpy - WARNING - Non-fatal error during sampling:\n",
      "Exception: prior_combined1_model_namespace::write_array: age is 25.5142, but must be greater than or equal to 30.000000 (in 'prior_combined1.stan', line 5, column 4 to column 54)\n",
      "\tException: prior_combined1_model_namespace::write_array: bps is 61.079, but must be greater than or equal to 94.000000 (in 'prior_combined1.stan', line 10, column 4 to column 56)\n",
      "\tException: prior_combined1_model_namespace::write_array: age is 8.72338, but must be greater than or equal to 30.000000 (in 'prior_combined1.stan', line 5, column 4 to column 54)\n",
      "\tException: prior_combined1_model_namespace::write_array: bps is 78.5301, but must be greater than or equal to 94.000000 (in 'prior_combined1.stan', line 10, column 4 to column 56)\n",
      "\tException: prior_combined1_model_namespace::write_array: bps is 30.6828, but must be greater than or equal to 94.000000 (in 'prior_combined1.stan', line 10, column 4 to column 56)\n",
      "\tException: prior_combined1_model_namespace::write_array: bps is 93.3682, but must be greater than or equal to 94.000000 (in 'prior_combined1.stan', line 10, column 4 to column 56)\n",
      "\tException: prior_combined1_model_namespace::write_array: age is 28.2895, but must be greater than or equal to 30.000000 (in 'prior_combined1.stan', line 5, column 4 to column 54)\n",
      "\tException: prior_combined1_model_namespace::write_array: bps is 68.1774, but must be greater than or equal to 94.000000 (in 'prior_combined1.stan', line 10, column 4 to column 56)\n",
      "Consider re-running with show_console=True if the above output is unclear!\n"
     ]
    },
    {
     "name": "stdout",
     "output_type": "stream",
     "text": [
      "\n"
     ]
    }
   ],
   "source": [
    "model1 = CmdStanModel(stan_file='prior_combined1.stan')\n",
    "sim = model1.sample(iter_sampling=50,\n",
    "                        iter_warmup=1000,\n",
    "                        chains=1,\n",
    "                        seed=242522,)\n",
    "prior_model1 = sim.draws_pd()"
   ]
  },
  {
   "cell_type": "code",
   "execution_count": 12,
   "metadata": {},
   "outputs": [
    {
     "data": {
      "image/png": "[encoded data removed]",
      "text/plain": [
       "<Figure size 1440x432 with 3 Axes>"
      ]
     },
     "metadata": {
      "needs_background": "light"
     },
     "output_type": "display_data"
    }
   ],
   "source": [
    "fig, axs = plt.subplots(1, 3, figsize=(20, 6))\n",
    "\n",
    "# First subplot\n",
    "axs[0].scatter(prior_model1['age'], prior_model1['combined_heart_disease_prob'], alpha=0.6)\n",
    "axs[0].axhline(y=0.5, color='red', linestyle='-')\n",
    "axs[0].set_xlabel('Age')\n",
    "axs[0].set_ylabel('Probability of Heart Disease')\n",
    "axs[0].set_title('Probability of Heart Disease by Age')\n",
    "axs[0].grid(True)\n",
    "\n",
    "# Second subplot\n",
    "axs[1].scatter(prior_model1['bps'], prior_model1['combined_heart_disease_prob'], alpha=0.6)\n",
    "axs[1].axhline(y=0.5, color='red', linestyle='-')\n",
    "axs[1].set_xlabel('Resting Blood Pressure')\n",
    "axs[1].set_ylabel('Probability of Heart Disease')\n",
    "axs[1].set_title('Probability of Heart Disease by Resting Blood Pressure')\n",
    "axs[1].grid(True)\n",
    "\n",
    "# Third subplot\n",
    "axs[2].scatter(prior_model1['thalach'], prior_model1['combined_heart_disease_prob'], alpha=0.6)\n",
    "axs[2].axhline(y=0.5, color='red', linestyle='-')\n",
    "axs[2].set_xlabel('Maximum Heart Rate Achieved')\n",
    "axs[2].set_ylabel('Probability of Heart Disease')\n",
    "axs[2].set_title('Probability of Heart Disease by Maximum Heart Rate Achieved')\n",
    "axs[2].grid(True)\n",
    "\n",
    "# Adjust layout to prevent overlap\n",
    "plt.tight_layout()\n",
    "\n",
    "# Show the plot\n",
    "plt.show()"
   ]
  },
  {
   "cell_type": "markdown",
   "metadata": {},
   "source": [
    "**Prior model 2**"
   ]
  },
  {
   "cell_type": "markdown",
   "metadata": {},
   "source": [
    "Prior 4 - cholesterol"
   ]
  },
  {
   "cell_type": "code",
   "execution_count": 13,
   "metadata": {},
   "outputs": [
    {
     "name": "stderr",
     "output_type": "stream",
     "text": [
      "18:03:13 - cmdstanpy - INFO - CmdStan start processing\n"
     ]
    },
    {
     "data": {
      "application/json": {
       "ascii": false,
       "bar_format": "{desc} |{bar}| {elapsed} {postfix[0][value]}",
       "colour": null,
       "elapsed": 0.010620832443237305,
       "initial": 0,
       "n": 0,
       "ncols": null,
       "nrows": null,
       "postfix": [
        {
         "value": "Status"
        }
       ],
       "prefix": "chain 1",
       "rate": null,
       "total": 12,
       "unit": "it",
       "unit_divisor": 1000,
       "unit_scale": false
      },
      "application/vnd.jupyter.widget-view+json": {
       "model_id": "b13fa3f524664b15baf0d6ad30e63079",
       "version_major": 2,
       "version_minor": 0
      },
      "text/plain": [
       "chain 1 |          | 00:00 Status"
      ]
     },
     "metadata": {},
     "output_type": "display_data"
    },
    {
     "name": "stdout",
     "output_type": "stream",
     "text": [
      "                                                                                "
     ]
    },
    {
     "name": "stderr",
     "output_type": "stream",
     "text": [
      "18:03:13 - cmdstanpy - INFO - CmdStan done processing.\n",
      "18:03:13 - cmdstanpy - WARNING - Non-fatal error during sampling:\n",
      "Exception: prior4_model_namespace::write_array: chol is 120.794, but must be greater than or equal to 130.000000 (in 'prior4.stan', line 4, column 4 to column 59)\n",
      "\tException: prior4_model_namespace::write_array: chol is 70.0943, but must be greater than or equal to 130.000000 (in 'prior4.stan', line 4, column 4 to column 59)\n",
      "\tException: prior4_model_namespace::write_array: chol is 36.93, but must be greater than or equal to 130.000000 (in 'prior4.stan', line 4, column 4 to column 59)\n",
      "Consider re-running with show_console=True if the above output is unclear!\n"
     ]
    },
    {
     "name": "stdout",
     "output_type": "stream",
     "text": [
      "\n"
     ]
    }
   ],
   "source": [
    "model_age = CmdStanModel(stan_file='prior4.stan')\n",
    "sim = model_age.sample(iter_sampling=50,\n",
    "                        iter_warmup=1000,\n",
    "                        chains=1,\n",
    "                        seed=242522,)"
   ]
  },
  {
   "cell_type": "code",
   "execution_count": 14,
   "metadata": {},
   "outputs": [
    {
     "data": {
      "image/png": "[encoded data removed]",
      "text/plain": [
       "<Figure size 720x432 with 1 Axes>"
      ]
     },
     "metadata": {
      "needs_background": "light"
     },
     "output_type": "display_data"
    }
   ],
   "source": [
    "prior4 = sim.draws_pd()\n",
    "\n",
    "plt.figure(figsize=(10, 6))\n",
    "plt.scatter(prior4['chol'], prior4['heart_disease_prob'], alpha=0.6)\n",
    "plt.axhline(y=0.5, color='red', linestyle='-')\n",
    "plt.xlabel('Serum cholestoral in mg/dl')\n",
    "plt.ylabel('Probability of heart disease')\n",
    "plt.title('Probability of heart disease by serum cholestoral in mg/dl')\n",
    "plt.grid(True)\n",
    "plt.show()"
   ]
  },
  {
   "cell_type": "markdown",
   "metadata": {},
   "source": [
    "Prior 5 - oldpeak"
   ]
  },
  {
   "cell_type": "code",
   "execution_count": 15,
   "metadata": {},
   "outputs": [
    {
     "name": "stderr",
     "output_type": "stream",
     "text": [
      "18:03:13 - cmdstanpy - INFO - compiling stan file /root/data-analytics/prior5.stan to exe file /root/data-analytics/prior5\n",
      "18:03:32 - cmdstanpy - INFO - compiled model executable: /root/data-analytics/prior5\n",
      "18:03:32 - cmdstanpy - INFO - CmdStan start processing\n"
     ]
    },
    {
     "data": {
      "application/json": {
       "ascii": false,
       "bar_format": "{desc} |{bar}| {elapsed} {postfix[0][value]}",
       "colour": null,
       "elapsed": 0.008998870849609375,
       "initial": 0,
       "n": 0,
       "ncols": null,
       "nrows": null,
       "postfix": [
        {
         "value": "Status"
        }
       ],
       "prefix": "chain 1",
       "rate": null,
       "total": 12,
       "unit": "it",
       "unit_divisor": 1000,
       "unit_scale": false
      },
      "application/vnd.jupyter.widget-view+json": {
       "model_id": "76366cf55b274c209aaa03968c153343",
       "version_major": 2,
       "version_minor": 0
      },
      "text/plain": [
       "chain 1 |          | 00:00 Status"
      ]
     },
     "metadata": {},
     "output_type": "display_data"
    },
    {
     "name": "stdout",
     "output_type": "stream",
     "text": [
      "                                                                                "
     ]
    },
    {
     "name": "stderr",
     "output_type": "stream",
     "text": [
      "18:03:32 - cmdstanpy - INFO - CmdStan done processing.\n",
      "18:03:32 - cmdstanpy - WARNING - Non-fatal error during sampling:\n",
      "Exception: prior5_model_namespace::write_array: old_peak is -0.299057, but must be greater than or equal to 0.000000 (in 'prior5.stan', line 4, column 4 to column 55)\n",
      "\tException: prior5_model_namespace::write_array: old_peak is -0.6307, but must be greater than or equal to 0.000000 (in 'prior5.stan', line 4, column 4 to column 55)\n",
      "Consider re-running with show_console=True if the above output is unclear!\n"
     ]
    },
    {
     "name": "stdout",
     "output_type": "stream",
     "text": [
      "\n"
     ]
    }
   ],
   "source": [
    "model_age = CmdStanModel(stan_file='prior5.stan')\n",
    "sim = model_age.sample(iter_sampling=50,\n",
    "                        iter_warmup=1000,\n",
    "                        chains=1,\n",
    "                        seed=242522,)"
   ]
  },
  {
   "cell_type": "code",
   "execution_count": 16,
   "metadata": {},
   "outputs": [
    {
     "data": {
      "image/png": "[encoded data removed]",
      "text/plain": [
       "<Figure size 720x432 with 1 Axes>"
      ]
     },
     "metadata": {
      "needs_background": "light"
     },
     "output_type": "display_data"
    }
   ],
   "source": [
    "prior5 = sim.draws_pd()\n",
    "\n",
    "plt.figure(figsize=(10, 6))\n",
    "plt.scatter(prior5['old_peak'], prior5['heart_disease_prob'], alpha=0.6)\n",
    "plt.axhline(y=0.5, color='red', linestyle='-')\n",
    "plt.xlabel('ST depression induced by exercise relative to rest')\n",
    "plt.ylabel('Probability of heart disease')\n",
    "plt.title('Probability of heart disease by ST depression induced by exercise relative to rest')\n",
    "plt.grid(True)\n",
    "plt.show()"
   ]
  },
  {
   "cell_type": "markdown",
   "metadata": {},
   "source": [
    "Prior 2 - combined"
   ]
  },
  {
   "cell_type": "code",
   "execution_count": 17,
   "metadata": {},
   "outputs": [
    {
     "name": "stderr",
     "output_type": "stream",
     "text": [
      "18:03:32 - cmdstanpy - INFO - CmdStan start processing\n"
     ]
    },
    {
     "data": {
      "application/json": {
       "ascii": false,
       "bar_format": "{desc} |{bar}| {elapsed} {postfix[0][value]}",
       "colour": null,
       "elapsed": 0.004916191101074219,
       "initial": 0,
       "n": 0,
       "ncols": null,
       "nrows": null,
       "postfix": [
        {
         "value": "Status"
        }
       ],
       "prefix": "chain 1",
       "rate": null,
       "total": 12,
       "unit": "it",
       "unit_divisor": 1000,
       "unit_scale": false
      },
      "application/vnd.jupyter.widget-view+json": {
       "model_id": "82b71376e7c540a58f670bc368df3a15",
       "version_major": 2,
       "version_minor": 0
      },
      "text/plain": [
       "chain 1 |          | 00:00 Status"
      ]
     },
     "metadata": {},
     "output_type": "display_data"
    },
    {
     "name": "stdout",
     "output_type": "stream",
     "text": [
      "                                                                                "
     ]
    },
    {
     "name": "stderr",
     "output_type": "stream",
     "text": [
      "18:03:32 - cmdstanpy - INFO - CmdStan done processing.\n",
      "18:03:32 - cmdstanpy - WARNING - Non-fatal error during sampling:\n",
      "Exception: prior_combined2_model_namespace::write_array: chol is 120.794, but must be greater than or equal to 130.000000 (in 'prior_combined2.stan', line 20, column 4 to column 59)\n",
      "\tException: prior_combined2_model_namespace::write_array: age is 25.5142, but must be greater than or equal to 30.000000 (in 'prior_combined2.stan', line 5, column 4 to column 54)\n",
      "\tException: prior_combined2_model_namespace::write_array: thalach is 27.4468, but must be greater than or equal to 70.000000 (in 'prior_combined2.stan', line 15, column 4 to column 60)\n",
      "\tException: prior_combined2_model_namespace::write_array: thalach is 68.5301, but must be greater than or equal to 70.000000 (in 'prior_combined2.stan', line 15, column 4 to column 60)\n",
      "\tException: prior_combined2_model_namespace::write_array: age is 5.34138, but must be greater than or equal to 30.000000 (in 'prior_combined2.stan', line 5, column 4 to column 54)\n",
      "\tException: prior_combined2_model_namespace::write_array: bps is 93.3682, but must be greater than or equal to 94.000000 (in 'prior_combined2.stan', line 10, column 4 to column 56)\n",
      "\tException: prior_combined2_model_namespace::write_array: thalach is 66.5789, but must be greater than or equal to 70.000000 (in 'prior_combined2.stan', line 15, column 4 to column 60)\n",
      "\tException: prior_combined2_model_namespace::write_array: age is 24.0887, but must be greater than or equal to 30.000000 (in 'prior_combined2.stan', line 5, column 4 to column 54)\n",
      "\tException: prior_combined2_model_namespace::write_array: age is 93.339, but must be less than or equal to 90.000000 (in 'prior_combined2.stan', line 5, column 4 to column 54)\n",
      "\tException: prior_combined2_model_namespace::write_array: age is 94.2764, but must be less than or equal to 90.000000 (in 'prior_combined2.stan', line 5, column 4 to column 54)\n",
      "\tException: prior_combined2_model_namespace::write_array: bps is 225.108, but must be less than or equal to 200.000000 (in 'prior_combined2.stan', line 10, column 4 to column 56)\n",
      "\tException: prior_combined2_model_namespace::write_array: bps is 73.7899, but must be greater than or equal to 94.000000 (in 'prior_combined2.stan', line 10, column 4 to column 56)\n",
      "Consider re-running with show_console=True if the above output is unclear!\n"
     ]
    },
    {
     "name": "stdout",
     "output_type": "stream",
     "text": [
      "\n"
     ]
    }
   ],
   "source": [
    "model2 = CmdStanModel(stan_file='prior_combined2.stan')\n",
    "sim = model2.sample(iter_sampling=50,\n",
    "                        iter_warmup=1000,\n",
    "                        chains=1,\n",
    "                        seed=242522,)\n",
    "prior_model2 = sim.draws_pd()"
   ]
  },
  {
   "cell_type": "code",
   "execution_count": 18,
   "metadata": {},
   "outputs": [
    {
     "data": {
      "image/png": "[encoded data removed]",
      "text/plain": [
       "<Figure size 2160x432 with 5 Axes>"
      ]
     },
     "metadata": {
      "needs_background": "light"
     },
     "output_type": "display_data"
    }
   ],
   "source": [
    "fig, axs = plt.subplots(1, 5, figsize=(30, 6))\n",
    "\n",
    "# First subplot\n",
    "axs[0].scatter(prior_model2['age'], prior_model2['combined_heart_disease_prob'], alpha=0.6)\n",
    "axs[0].axhline(y=0.5, color='red', linestyle='-')\n",
    "axs[0].set_xlabel('Age')\n",
    "axs[0].set_ylabel('Probability of Heart Disease')\n",
    "axs[0].set_title('Probability of Heart Disease by Age')\n",
    "axs[0].grid(True)\n",
    "\n",
    "# Second subplot\n",
    "axs[1].scatter(prior_model1['bps'], prior_model2['combined_heart_disease_prob'], alpha=0.6)\n",
    "axs[1].axhline(y=0.5, color='red', linestyle='-')\n",
    "axs[1].set_xlabel('Resting Blood Pressure')\n",
    "axs[1].set_ylabel('Probability of Heart Disease')\n",
    "axs[1].set_title('Probability of Heart Disease by Resting Blood Pressure')\n",
    "axs[1].grid(True)\n",
    "\n",
    "# Third subplot\n",
    "axs[2].scatter(prior_model1['thalach'], prior_model2['combined_heart_disease_prob'], alpha=0.6)\n",
    "axs[2].axhline(y=0.5, color='red', linestyle='-')\n",
    "axs[2].set_xlabel('Maximum Heart Rate Achieved')\n",
    "axs[2].set_ylabel('Probability of Heart Disease')\n",
    "axs[2].set_title('Probability of Heart Disease by Maximum Heart Rate Achieved')\n",
    "axs[2].grid(True)\n",
    "\n",
    "# Fourth subplot\n",
    "axs[3].scatter(prior_model2['chol'], prior_model2['combined_heart_disease_prob'], alpha=0.6)\n",
    "axs[3].axhline(y=0.5, color='red', linestyle='-')\n",
    "axs[3].set_xlabel('Serum Cholesterol in mg/dl')\n",
    "axs[3].set_ylabel('Probability of Heart Disease')\n",
    "axs[3].set_title('Probability of Heart Disease by Serum Cholesterol in mg/dl')\n",
    "axs[3].grid(True)\n",
    "\n",
    "# Fifth subplot\n",
    "axs[4].scatter(prior_model2['old_peak'], prior_model2['combined_heart_disease_prob'], alpha=0.6)\n",
    "axs[4].axhline(y=0.5, color='red', linestyle='-')\n",
    "axs[4].set_xlabel('ST Depression Induced by Exercise Relative to Rest')\n",
    "axs[4].set_ylabel('Probability of Heart Disease')\n",
    "axs[4].set_title('Probability of Heart Disease by ST Depression Induced by Exercise Relative to Rest')\n",
    "axs[4].grid(True)\n",
    "\n",
    "# Adjust layout to prevent overlap\n",
    "plt.tight_layout()\n",
    "\n",
    "# Show the plot\n",
    "plt.show()"
   ]
  }
 ],
 "metadata": {
  "kernelspec": {
   "display_name": "Python 3 (ipykernel)",
   "language": "python",
   "name": "python3"
  },
  "language_info": {
   "codemirror_mode": {
    "name": "ipython",
    "version": 3
   },
   "file_extension": ".py",
   "mimetype": "text/x-python",
   "name": "python",
   "nbconvert_exporter": "python",
   "pygments_lexer": "ipython3",
   "version": "3.12.2"
  }
 },
 "nbformat": 4,
 "nbformat_minor": 2
}
