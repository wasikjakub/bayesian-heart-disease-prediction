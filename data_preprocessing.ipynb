{
 "cells": [
  {
   "cell_type": "code",
   "execution_count": 1,
   "metadata": {},
   "outputs": [],
   "source": [
    "import pandas as pd\n",
    "import numpy as np\n",
    "import matplotlib.pyplot as plt\n",
    "from cmdstanpy import CmdStanModel\n",
    "from sklearn.preprocessing import StandardScaler\n",
    "import seaborn as sns"
   ]
  },
  {
   "cell_type": "code",
   "execution_count": 2,
   "metadata": {},
   "outputs": [],
   "source": [
    "data = pd.read_csv('heart.csv').dropna()\n",
    "data_pd = data.copy()"
   ]
  },
  {
   "cell_type": "code",
   "execution_count": 3,
   "metadata": {},
   "outputs": [
    {
     "data": {
      "text/html": [
       "<div>\n",
       "<style scoped>\n",
       "    .dataframe tbody tr th:only-of-type {\n",
       "        vertical-align: middle;\n",
       "    }\n",
       "\n",
       "    .dataframe tbody tr th {\n",
       "        vertical-align: top;\n",
       "    }\n",
       "\n",
       "    .dataframe thead th {\n",
       "        text-align: right;\n",
       "    }\n",
       "</style>\n",
       "<table border=\"1\" class=\"dataframe\">\n",
       "  <thead>\n",
       "    <tr style=\"text-align: right;\">\n",
       "      <th></th>\n",
       "      <th>age</th>\n",
       "      <th>trestbps</th>\n",
       "      <th>thalach</th>\n",
       "    </tr>\n",
       "  </thead>\n",
       "  <tbody>\n",
       "    <tr>\n",
       "      <th>0</th>\n",
       "      <td>63</td>\n",
       "      <td>145</td>\n",
       "      <td>150</td>\n",
       "    </tr>\n",
       "    <tr>\n",
       "      <th>1</th>\n",
       "      <td>37</td>\n",
       "      <td>130</td>\n",
       "      <td>187</td>\n",
       "    </tr>\n",
       "    <tr>\n",
       "      <th>2</th>\n",
       "      <td>41</td>\n",
       "      <td>130</td>\n",
       "      <td>172</td>\n",
       "    </tr>\n",
       "    <tr>\n",
       "      <th>3</th>\n",
       "      <td>56</td>\n",
       "      <td>120</td>\n",
       "      <td>178</td>\n",
       "    </tr>\n",
       "    <tr>\n",
       "      <th>4</th>\n",
       "      <td>57</td>\n",
       "      <td>120</td>\n",
       "      <td>163</td>\n",
       "    </tr>\n",
       "    <tr>\n",
       "      <th>...</th>\n",
       "      <td>...</td>\n",
       "      <td>...</td>\n",
       "      <td>...</td>\n",
       "    </tr>\n",
       "    <tr>\n",
       "      <th>298</th>\n",
       "      <td>57</td>\n",
       "      <td>140</td>\n",
       "      <td>123</td>\n",
       "    </tr>\n",
       "    <tr>\n",
       "      <th>299</th>\n",
       "      <td>45</td>\n",
       "      <td>110</td>\n",
       "      <td>132</td>\n",
       "    </tr>\n",
       "    <tr>\n",
       "      <th>300</th>\n",
       "      <td>68</td>\n",
       "      <td>144</td>\n",
       "      <td>141</td>\n",
       "    </tr>\n",
       "    <tr>\n",
       "      <th>301</th>\n",
       "      <td>57</td>\n",
       "      <td>130</td>\n",
       "      <td>115</td>\n",
       "    </tr>\n",
       "    <tr>\n",
       "      <th>302</th>\n",
       "      <td>57</td>\n",
       "      <td>130</td>\n",
       "      <td>174</td>\n",
       "    </tr>\n",
       "  </tbody>\n",
       "</table>\n",
       "<p>303 rows × 3 columns</p>\n",
       "</div>"
      ],
      "text/plain": [
       "     age  trestbps  thalach\n",
       "0     63       145      150\n",
       "1     37       130      187\n",
       "2     41       130      172\n",
       "3     56       120      178\n",
       "4     57       120      163\n",
       "..   ...       ...      ...\n",
       "298   57       140      123\n",
       "299   45       110      132\n",
       "300   68       144      141\n",
       "301   57       130      115\n",
       "302   57       130      174\n",
       "\n",
       "[303 rows x 3 columns]"
      ]
     },
     "execution_count": 3,
     "metadata": {},
     "output_type": "execute_result"
    }
   ],
   "source": [
    "data1 = data[['age', 'trestbps', 'thalach']]\n",
    "data1"
   ]
  },
  {
   "cell_type": "code",
   "execution_count": 4,
   "metadata": {},
   "outputs": [
    {
     "data": {
      "text/html": [
       "<div>\n",
       "<style scoped>\n",
       "    .dataframe tbody tr th:only-of-type {\n",
       "        vertical-align: middle;\n",
       "    }\n",
       "\n",
       "    .dataframe tbody tr th {\n",
       "        vertical-align: top;\n",
       "    }\n",
       "\n",
       "    .dataframe thead th {\n",
       "        text-align: right;\n",
       "    }\n",
       "</style>\n",
       "<table border=\"1\" class=\"dataframe\">\n",
       "  <thead>\n",
       "    <tr style=\"text-align: right;\">\n",
       "      <th></th>\n",
       "      <th>age</th>\n",
       "      <th>trestbps</th>\n",
       "      <th>thalach</th>\n",
       "      <th>cp</th>\n",
       "      <th>chol</th>\n",
       "      <th>oldpeak</th>\n",
       "    </tr>\n",
       "  </thead>\n",
       "  <tbody>\n",
       "    <tr>\n",
       "      <th>0</th>\n",
       "      <td>63</td>\n",
       "      <td>145</td>\n",
       "      <td>150</td>\n",
       "      <td>3</td>\n",
       "      <td>233</td>\n",
       "      <td>2.3</td>\n",
       "    </tr>\n",
       "    <tr>\n",
       "      <th>1</th>\n",
       "      <td>37</td>\n",
       "      <td>130</td>\n",
       "      <td>187</td>\n",
       "      <td>2</td>\n",
       "      <td>250</td>\n",
       "      <td>3.5</td>\n",
       "    </tr>\n",
       "    <tr>\n",
       "      <th>2</th>\n",
       "      <td>41</td>\n",
       "      <td>130</td>\n",
       "      <td>172</td>\n",
       "      <td>1</td>\n",
       "      <td>204</td>\n",
       "      <td>1.4</td>\n",
       "    </tr>\n",
       "    <tr>\n",
       "      <th>3</th>\n",
       "      <td>56</td>\n",
       "      <td>120</td>\n",
       "      <td>178</td>\n",
       "      <td>1</td>\n",
       "      <td>236</td>\n",
       "      <td>0.8</td>\n",
       "    </tr>\n",
       "    <tr>\n",
       "      <th>4</th>\n",
       "      <td>57</td>\n",
       "      <td>120</td>\n",
       "      <td>163</td>\n",
       "      <td>0</td>\n",
       "      <td>354</td>\n",
       "      <td>0.6</td>\n",
       "    </tr>\n",
       "    <tr>\n",
       "      <th>...</th>\n",
       "      <td>...</td>\n",
       "      <td>...</td>\n",
       "      <td>...</td>\n",
       "      <td>...</td>\n",
       "      <td>...</td>\n",
       "      <td>...</td>\n",
       "    </tr>\n",
       "    <tr>\n",
       "      <th>298</th>\n",
       "      <td>57</td>\n",
       "      <td>140</td>\n",
       "      <td>123</td>\n",
       "      <td>0</td>\n",
       "      <td>241</td>\n",
       "      <td>0.2</td>\n",
       "    </tr>\n",
       "    <tr>\n",
       "      <th>299</th>\n",
       "      <td>45</td>\n",
       "      <td>110</td>\n",
       "      <td>132</td>\n",
       "      <td>3</td>\n",
       "      <td>264</td>\n",
       "      <td>1.2</td>\n",
       "    </tr>\n",
       "    <tr>\n",
       "      <th>300</th>\n",
       "      <td>68</td>\n",
       "      <td>144</td>\n",
       "      <td>141</td>\n",
       "      <td>0</td>\n",
       "      <td>193</td>\n",
       "      <td>3.4</td>\n",
       "    </tr>\n",
       "    <tr>\n",
       "      <th>301</th>\n",
       "      <td>57</td>\n",
       "      <td>130</td>\n",
       "      <td>115</td>\n",
       "      <td>0</td>\n",
       "      <td>131</td>\n",
       "      <td>1.2</td>\n",
       "    </tr>\n",
       "    <tr>\n",
       "      <th>302</th>\n",
       "      <td>57</td>\n",
       "      <td>130</td>\n",
       "      <td>174</td>\n",
       "      <td>1</td>\n",
       "      <td>236</td>\n",
       "      <td>0.0</td>\n",
       "    </tr>\n",
       "  </tbody>\n",
       "</table>\n",
       "<p>303 rows × 6 columns</p>\n",
       "</div>"
      ],
      "text/plain": [
       "     age  trestbps  thalach  cp  chol  oldpeak\n",
       "0     63       145      150   3   233      2.3\n",
       "1     37       130      187   2   250      3.5\n",
       "2     41       130      172   1   204      1.4\n",
       "3     56       120      178   1   236      0.8\n",
       "4     57       120      163   0   354      0.6\n",
       "..   ...       ...      ...  ..   ...      ...\n",
       "298   57       140      123   0   241      0.2\n",
       "299   45       110      132   3   264      1.2\n",
       "300   68       144      141   0   193      3.4\n",
       "301   57       130      115   0   131      1.2\n",
       "302   57       130      174   1   236      0.0\n",
       "\n",
       "[303 rows x 6 columns]"
      ]
     },
     "execution_count": 4,
     "metadata": {},
     "output_type": "execute_result"
    }
   ],
   "source": [
    "data2 = data[['age', 'trestbps', 'thalach', 'cp', 'chol', 'oldpeak']]\n",
    "data2"
   ]
  },
  {
   "cell_type": "markdown",
   "metadata": {},
   "source": [
    "Prior 1 - age"
   ]
  },
  {
   "cell_type": "code",
   "execution_count": 127,
   "metadata": {},
   "outputs": [
    {
     "name": "stderr",
     "output_type": "stream",
     "text": [
      "17:03:50 - cmdstanpy - INFO - compiling stan file /root/data-analytics/prior1.stan to exe file /root/data-analytics/prior1\n",
      "17:04:12 - cmdstanpy - INFO - compiled model executable: /root/data-analytics/prior1\n",
      "17:04:13 - cmdstanpy - INFO - CmdStan start processing\n"
     ]
    },
    {
     "data": {
      "application/json": {
       "ascii": false,
       "bar_format": "{desc} |{bar}| {elapsed} {postfix[0][value]}",
       "colour": null,
       "elapsed": 0.019864320755004883,
       "initial": 0,
       "n": 0,
       "ncols": null,
       "nrows": null,
       "postfix": [
        {
         "value": "Status"
        }
       ],
       "prefix": "chain 1",
       "rate": null,
       "total": 12,
       "unit": "it",
       "unit_divisor": 1000,
       "unit_scale": false
      },
      "application/vnd.jupyter.widget-view+json": {
       "model_id": "519e4bf32034448e8f7726a0ecb6187f",
       "version_major": 2,
       "version_minor": 0
      },
      "text/plain": [
       "chain 1 |          | 00:00 Status"
      ]
     },
     "metadata": {},
     "output_type": "display_data"
    },
    {
     "name": "stdout",
     "output_type": "stream",
     "text": [
      "                                                                                "
     ]
    },
    {
     "name": "stderr",
     "output_type": "stream",
     "text": [
      "17:04:13 - cmdstanpy - INFO - CmdStan done processing.\n"
     ]
    },
    {
     "name": "stdout",
     "output_type": "stream",
     "text": [
      "\n"
     ]
    }
   ],
   "source": [
    "model_age = CmdStanModel(stan_file='prior1.stan')\n",
    "sim = model_age.sample(iter_sampling=50,\n",
    "                        iter_warmup=1000,\n",
    "                        chains=1,\n",
    "                        fixed_param=False,\n",
    "                        seed=24252)"
   ]
  },
  {
   "cell_type": "code",
   "execution_count": 128,
   "metadata": {},
   "outputs": [
    {
     "data": {
      "image/png": "[encoded data removed]",
      "text/plain": [
       "<Figure size 720x432 with 1 Axes>"
      ]
     },
     "metadata": {
      "needs_background": "light"
     },
     "output_type": "display_data"
    }
   ],
   "source": [
    "prior1 = sim.draws_pd()\n",
    "\n",
    "results_df = pd.DataFrame({\n",
    "    'age': prior1['age'],\n",
    "    'heart_disease_prob': prior1.iloc[:, 12:].mean(axis=0) # Mean probability across samples\n",
    "})\n",
    "\n",
    "# Plotting the results with matplotlib\n",
    "plt.figure(figsize=(10, 6))\n",
    "plt.scatter(prior1['age'], prior1['heart_disease_prob'], alpha=0.6)\n",
    "plt.axhline(y=0.5, color='red', linestyle='-')\n",
    "plt.xlabel('Age')\n",
    "plt.ylabel('Probability of Heart Disease')\n",
    "plt.title('Probability of Heart Disease by Age')\n",
    "plt.grid(True)\n",
    "plt.show()"
   ]
  },
  {
   "cell_type": "markdown",
   "metadata": {},
   "source": [
    "Prior 2 - trestbps (resting blood pressure)"
   ]
  },
  {
   "cell_type": "code",
   "execution_count": 170,
   "metadata": {},
   "outputs": [
    {
     "name": "stderr",
     "output_type": "stream",
     "text": [
      "17:48:49 - cmdstanpy - INFO - compiling stan file /root/data-analytics/prior2.stan to exe file /root/data-analytics/prior2\n",
      "17:49:14 - cmdstanpy - INFO - compiled model executable: /root/data-analytics/prior2\n",
      "17:49:14 - cmdstanpy - INFO - CmdStan start processing\n"
     ]
    },
    {
     "data": {
      "application/json": {
       "ascii": false,
       "bar_format": "{desc} |{bar}| {elapsed} {postfix[0][value]}",
       "colour": null,
       "elapsed": 0.023807764053344727,
       "initial": 0,
       "n": 0,
       "ncols": null,
       "nrows": null,
       "postfix": [
        {
         "value": "Status"
        }
       ],
       "prefix": "chain 1",
       "rate": null,
       "total": 12,
       "unit": "it",
       "unit_divisor": 1000,
       "unit_scale": false
      },
      "application/vnd.jupyter.widget-view+json": {
       "model_id": "f7dd9fc88d77407c9bfbd04c951d5b59",
       "version_major": 2,
       "version_minor": 0
      },
      "text/plain": [
       "chain 1 |          | 00:00 Status"
      ]
     },
     "metadata": {},
     "output_type": "display_data"
    },
    {
     "name": "stdout",
     "output_type": "stream",
     "text": [
      "                                                                                "
     ]
    },
    {
     "name": "stderr",
     "output_type": "stream",
     "text": [
      "17:49:14 - cmdstanpy - INFO - CmdStan done processing.\n"
     ]
    },
    {
     "name": "stdout",
     "output_type": "stream",
     "text": [
      "\n"
     ]
    }
   ],
   "source": [
    "model_age = CmdStanModel(stan_file='prior2.stan')\n",
    "sim = model_age.sample(iter_sampling=50,\n",
    "                        iter_warmup=1000,\n",
    "                        chains=1,\n",
    "                        seed=242522,)"
   ]
  },
  {
   "cell_type": "code",
   "execution_count": 171,
   "metadata": {},
   "outputs": [
    {
     "data": {
      "image/png": "[encoded data removed]",
      "text/plain": [
       "<Figure size 720x432 with 1 Axes>"
      ]
     },
     "metadata": {
      "needs_background": "light"
     },
     "output_type": "display_data"
    }
   ],
   "source": [
    "prior2 = sim.draws_pd()\n",
    "\n",
    "plt.figure(figsize=(10, 6))\n",
    "plt.scatter(prior2['bps'], prior2['heart_disease_prob'], alpha=0.6)\n",
    "plt.axhline(y=0.5, color='red', linestyle='-')\n",
    "plt.xlabel('Resting blood pressure')\n",
    "plt.ylabel('Probability of heart disease')\n",
    "plt.title('Probability of heart disease by resting blood pressure')\n",
    "plt.grid(True)\n",
    "plt.show()"
   ]
  },
  {
   "cell_type": "markdown",
   "metadata": {},
   "source": [
    "Prior 3 - thalach (maximum heart rate achieved)"
   ]
  },
  {
   "cell_type": "code",
   "execution_count": 164,
   "metadata": {},
   "outputs": [
    {
     "name": "stderr",
     "output_type": "stream",
     "text": [
      "09:10:23 - cmdstanpy - INFO - compiling stan file /root/data-analytics/prior3.stan to exe file /root/data-analytics/prior3\n",
      "09:10:50 - cmdstanpy - INFO - compiled model executable: /root/data-analytics/prior3\n",
      "09:10:50 - cmdstanpy - INFO - CmdStan start processing\n"
     ]
    },
    {
     "data": {
      "application/json": {
       "ascii": false,
       "bar_format": "{desc} |{bar}| {elapsed} {postfix[0][value]}",
       "colour": null,
       "elapsed": 0.013089418411254883,
       "initial": 0,
       "n": 0,
       "ncols": null,
       "nrows": null,
       "postfix": [
        {
         "value": "Status"
        }
       ],
       "prefix": "chain 1",
       "rate": null,
       "total": 14,
       "unit": "it",
       "unit_divisor": 1000,
       "unit_scale": false
      },
      "application/vnd.jupyter.widget-view+json": {
       "model_id": "232ca05fb6e54d6abdfaac2c9ba2a681",
       "version_major": 2,
       "version_minor": 0
      },
      "text/plain": [
       "chain 1 |          | 00:00 Status"
      ]
     },
     "metadata": {},
     "output_type": "display_data"
    },
    {
     "data": {
      "application/json": {
       "ascii": false,
       "bar_format": "{desc} |{bar}| {elapsed} {postfix[0][value]}",
       "colour": null,
       "elapsed": 0.0072443485260009766,
       "initial": 0,
       "n": 0,
       "ncols": null,
       "nrows": null,
       "postfix": [
        {
         "value": "Status"
        }
       ],
       "prefix": "chain 2",
       "rate": null,
       "total": 14,
       "unit": "it",
       "unit_divisor": 1000,
       "unit_scale": false
      },
      "application/vnd.jupyter.widget-view+json": {
       "model_id": "2cbedd3884b04c77bdfbc877d498aecc",
       "version_major": 2,
       "version_minor": 0
      },
      "text/plain": [
       "chain 2 |          | 00:00 Status"
      ]
     },
     "metadata": {},
     "output_type": "display_data"
    },
    {
     "data": {
      "application/json": {
       "ascii": false,
       "bar_format": "{desc} |{bar}| {elapsed} {postfix[0][value]}",
       "colour": null,
       "elapsed": 0.007863759994506836,
       "initial": 0,
       "n": 0,
       "ncols": null,
       "nrows": null,
       "postfix": [
        {
         "value": "Status"
        }
       ],
       "prefix": "chain 3",
       "rate": null,
       "total": 14,
       "unit": "it",
       "unit_divisor": 1000,
       "unit_scale": false
      },
      "application/vnd.jupyter.widget-view+json": {
       "model_id": "f3f878dd50ac4da592cd6fd19f47e0e0",
       "version_major": 2,
       "version_minor": 0
      },
      "text/plain": [
       "chain 3 |          | 00:00 Status"
      ]
     },
     "metadata": {},
     "output_type": "display_data"
    },
    {
     "data": {
      "application/json": {
       "ascii": false,
       "bar_format": "{desc} |{bar}| {elapsed} {postfix[0][value]}",
       "colour": null,
       "elapsed": 0.008403539657592773,
       "initial": 0,
       "n": 0,
       "ncols": null,
       "nrows": null,
       "postfix": [
        {
         "value": "Status"
        }
       ],
       "prefix": "chain 4",
       "rate": null,
       "total": 14,
       "unit": "it",
       "unit_divisor": 1000,
       "unit_scale": false
      },
      "application/vnd.jupyter.widget-view+json": {
       "model_id": "b0f41a34c3d64682826261b52336abdc",
       "version_major": 2,
       "version_minor": 0
      },
      "text/plain": [
       "chain 4 |          | 00:00 Status"
      ]
     },
     "metadata": {},
     "output_type": "display_data"
    },
    {
     "name": "stdout",
     "output_type": "stream",
     "text": [
      "                                                                                                                                                                                                                                                                                                                                "
     ]
    },
    {
     "name": "stderr",
     "output_type": "stream",
     "text": [
      "09:10:50 - cmdstanpy - INFO - CmdStan done processing.\n"
     ]
    },
    {
     "name": "stdout",
     "output_type": "stream",
     "text": [
      "\n"
     ]
    }
   ],
   "source": [
    "\n",
    "\n",
    "data_prior3 = {\n",
    "    'N': len(bps),\n",
    "    'thalach': list(thalach),\n",
    "}\n",
    "\n",
    "model_age = CmdStanModel(stan_file='prior3.stan')\n",
    "sim = model_age.sample(data=data_prior3,\n",
    "                        iter_sampling=200,\n",
    "                        iter_warmup=1000,\n",
    "                        chains=4,\n",
    "                        seed=242522,)"
   ]
  },
  {
   "cell_type": "code",
   "execution_count": 165,
   "metadata": {},
   "outputs": [
    {
     "data": {
      "image/png": "[encoded data removed]",
      "text/plain": [
       "<Figure size 720x432 with 1 Axes>"
      ]
     },
     "metadata": {
      "needs_background": "light"
     },
     "output_type": "display_data"
    }
   ],
   "source": [
    "prior3 = sim.draws_pd()\n",
    "\n",
    "results_df = pd.DataFrame({\n",
    "    'thalach': data_prior3['thalach'],\n",
    "    'heart_disease_prob': prior3.iloc[:, 12:].mean(axis=0)  # Mean probability across samples\n",
    "})\n",
    "\n",
    "# Plotting the results with matplotlib\n",
    "plt.figure(figsize=(10, 6))\n",
    "plt.scatter(results_df['thalach'], results_df['heart_disease_prob'], alpha=0.6)\n",
    "plt.xlabel('Maximum heart rate achieved')\n",
    "plt.ylabel('Probability of heart disease')\n",
    "plt.title('Probability of heart disease by maximum heart rate achieved')\n",
    "plt.grid(True)\n",
    "plt.show()"
   ]
  },
  {
   "cell_type": "markdown",
   "metadata": {},
   "source": [
    "## Posterior"
   ]
  },
  {
   "cell_type": "code",
   "execution_count": 12,
   "metadata": {},
   "outputs": [
    {
     "data": {
      "text/html": [
       "<div>\n",
       "<style scoped>\n",
       "    .dataframe tbody tr th:only-of-type {\n",
       "        vertical-align: middle;\n",
       "    }\n",
       "\n",
       "    .dataframe tbody tr th {\n",
       "        vertical-align: top;\n",
       "    }\n",
       "\n",
       "    .dataframe thead th {\n",
       "        text-align: right;\n",
       "    }\n",
       "</style>\n",
       "<table border=\"1\" class=\"dataframe\">\n",
       "  <thead>\n",
       "    <tr style=\"text-align: right;\">\n",
       "      <th></th>\n",
       "      <th>age</th>\n",
       "      <th>trestbps</th>\n",
       "      <th>thalach</th>\n",
       "    </tr>\n",
       "  </thead>\n",
       "  <tbody>\n",
       "    <tr>\n",
       "      <th>0</th>\n",
       "      <td>63</td>\n",
       "      <td>145</td>\n",
       "      <td>150</td>\n",
       "    </tr>\n",
       "    <tr>\n",
       "      <th>1</th>\n",
       "      <td>37</td>\n",
       "      <td>130</td>\n",
       "      <td>187</td>\n",
       "    </tr>\n",
       "    <tr>\n",
       "      <th>2</th>\n",
       "      <td>41</td>\n",
       "      <td>130</td>\n",
       "      <td>172</td>\n",
       "    </tr>\n",
       "    <tr>\n",
       "      <th>3</th>\n",
       "      <td>56</td>\n",
       "      <td>120</td>\n",
       "      <td>178</td>\n",
       "    </tr>\n",
       "    <tr>\n",
       "      <th>4</th>\n",
       "      <td>57</td>\n",
       "      <td>120</td>\n",
       "      <td>163</td>\n",
       "    </tr>\n",
       "    <tr>\n",
       "      <th>...</th>\n",
       "      <td>...</td>\n",
       "      <td>...</td>\n",
       "      <td>...</td>\n",
       "    </tr>\n",
       "    <tr>\n",
       "      <th>298</th>\n",
       "      <td>57</td>\n",
       "      <td>140</td>\n",
       "      <td>123</td>\n",
       "    </tr>\n",
       "    <tr>\n",
       "      <th>299</th>\n",
       "      <td>45</td>\n",
       "      <td>110</td>\n",
       "      <td>132</td>\n",
       "    </tr>\n",
       "    <tr>\n",
       "      <th>300</th>\n",
       "      <td>68</td>\n",
       "      <td>144</td>\n",
       "      <td>141</td>\n",
       "    </tr>\n",
       "    <tr>\n",
       "      <th>301</th>\n",
       "      <td>57</td>\n",
       "      <td>130</td>\n",
       "      <td>115</td>\n",
       "    </tr>\n",
       "    <tr>\n",
       "      <th>302</th>\n",
       "      <td>57</td>\n",
       "      <td>130</td>\n",
       "      <td>174</td>\n",
       "    </tr>\n",
       "  </tbody>\n",
       "</table>\n",
       "<p>303 rows × 3 columns</p>\n",
       "</div>"
      ],
      "text/plain": [
       "     age  trestbps  thalach\n",
       "0     63       145      150\n",
       "1     37       130      187\n",
       "2     41       130      172\n",
       "3     56       120      178\n",
       "4     57       120      163\n",
       "..   ...       ...      ...\n",
       "298   57       140      123\n",
       "299   45       110      132\n",
       "300   68       144      141\n",
       "301   57       130      115\n",
       "302   57       130      174\n",
       "\n",
       "[303 rows x 3 columns]"
      ]
     },
     "execution_count": 12,
     "metadata": {},
     "output_type": "execute_result"
    }
   ],
   "source": [
    "target = data['target']\n",
    "data1"
   ]
  },
  {
   "cell_type": "code",
   "execution_count": 13,
   "metadata": {},
   "outputs": [
    {
     "data": {
      "text/html": [
       "<div>\n",
       "<style scoped>\n",
       "    .dataframe tbody tr th:only-of-type {\n",
       "        vertical-align: middle;\n",
       "    }\n",
       "\n",
       "    .dataframe tbody tr th {\n",
       "        vertical-align: top;\n",
       "    }\n",
       "\n",
       "    .dataframe thead th {\n",
       "        text-align: right;\n",
       "    }\n",
       "</style>\n",
       "<table border=\"1\" class=\"dataframe\">\n",
       "  <thead>\n",
       "    <tr style=\"text-align: right;\">\n",
       "      <th></th>\n",
       "      <th>age</th>\n",
       "      <th>trestbps</th>\n",
       "      <th>thalach</th>\n",
       "    </tr>\n",
       "  </thead>\n",
       "  <tbody>\n",
       "    <tr>\n",
       "      <th>0</th>\n",
       "      <td>63</td>\n",
       "      <td>145</td>\n",
       "      <td>150</td>\n",
       "    </tr>\n",
       "    <tr>\n",
       "      <th>1</th>\n",
       "      <td>37</td>\n",
       "      <td>130</td>\n",
       "      <td>187</td>\n",
       "    </tr>\n",
       "    <tr>\n",
       "      <th>2</th>\n",
       "      <td>41</td>\n",
       "      <td>130</td>\n",
       "      <td>172</td>\n",
       "    </tr>\n",
       "    <tr>\n",
       "      <th>3</th>\n",
       "      <td>56</td>\n",
       "      <td>120</td>\n",
       "      <td>178</td>\n",
       "    </tr>\n",
       "    <tr>\n",
       "      <th>4</th>\n",
       "      <td>57</td>\n",
       "      <td>120</td>\n",
       "      <td>163</td>\n",
       "    </tr>\n",
       "    <tr>\n",
       "      <th>...</th>\n",
       "      <td>...</td>\n",
       "      <td>...</td>\n",
       "      <td>...</td>\n",
       "    </tr>\n",
       "    <tr>\n",
       "      <th>298</th>\n",
       "      <td>57</td>\n",
       "      <td>140</td>\n",
       "      <td>123</td>\n",
       "    </tr>\n",
       "    <tr>\n",
       "      <th>299</th>\n",
       "      <td>45</td>\n",
       "      <td>110</td>\n",
       "      <td>132</td>\n",
       "    </tr>\n",
       "    <tr>\n",
       "      <th>300</th>\n",
       "      <td>68</td>\n",
       "      <td>144</td>\n",
       "      <td>141</td>\n",
       "    </tr>\n",
       "    <tr>\n",
       "      <th>301</th>\n",
       "      <td>57</td>\n",
       "      <td>130</td>\n",
       "      <td>115</td>\n",
       "    </tr>\n",
       "    <tr>\n",
       "      <th>302</th>\n",
       "      <td>57</td>\n",
       "      <td>130</td>\n",
       "      <td>174</td>\n",
       "    </tr>\n",
       "  </tbody>\n",
       "</table>\n",
       "<p>303 rows × 3 columns</p>\n",
       "</div>"
      ],
      "text/plain": [
       "     age  trestbps  thalach\n",
       "0     63       145      150\n",
       "1     37       130      187\n",
       "2     41       130      172\n",
       "3     56       120      178\n",
       "4     57       120      163\n",
       "..   ...       ...      ...\n",
       "298   57       140      123\n",
       "299   45       110      132\n",
       "300   68       144      141\n",
       "301   57       130      115\n",
       "302   57       130      174\n",
       "\n",
       "[303 rows x 3 columns]"
      ]
     },
     "execution_count": 13,
     "metadata": {},
     "output_type": "execute_result"
    }
   ],
   "source": [
    "scaler = StandardScaler()\n",
    "predictors_scaled = scaler.fit_transform(data1)\n",
    "data1"
   ]
  },
  {
   "cell_type": "code",
   "execution_count": 26,
   "metadata": {},
   "outputs": [],
   "source": [
    "stan_data = {\n",
    "    'N': data1.shape[0],\n",
    "    'K': data1.shape[1],\n",
    "    'X': data1,\n",
    "    'y': target.values\n",
    "}\n",
    "\n",
    "model = CmdStanModel(stan_file='posterior1.stan')"
   ]
  },
  {
   "cell_type": "code",
   "execution_count": 24,
   "metadata": {},
   "outputs": [
    {
     "data": {
      "text/html": [
       "<div>\n",
       "<style scoped>\n",
       "    .dataframe tbody tr th:only-of-type {\n",
       "        vertical-align: middle;\n",
       "    }\n",
       "\n",
       "    .dataframe tbody tr th {\n",
       "        vertical-align: top;\n",
       "    }\n",
       "\n",
       "    .dataframe thead th {\n",
       "        text-align: right;\n",
       "    }\n",
       "</style>\n",
       "<table border=\"1\" class=\"dataframe\">\n",
       "  <thead>\n",
       "    <tr style=\"text-align: right;\">\n",
       "      <th></th>\n",
       "      <th>chain__</th>\n",
       "      <th>iter__</th>\n",
       "      <th>draw__</th>\n",
       "      <th>lp__</th>\n",
       "      <th>accept_stat__</th>\n",
       "      <th>stepsize__</th>\n",
       "      <th>treedepth__</th>\n",
       "      <th>n_leapfrog__</th>\n",
       "      <th>divergent__</th>\n",
       "      <th>energy__</th>\n",
       "      <th>beta[1]</th>\n",
       "      <th>beta[2]</th>\n",
       "      <th>beta[3]</th>\n",
       "      <th>alpha</th>\n",
       "    </tr>\n",
       "  </thead>\n",
       "  <tbody>\n",
       "    <tr>\n",
       "      <th>0</th>\n",
       "      <td>1.0</td>\n",
       "      <td>1.0</td>\n",
       "      <td>1.0</td>\n",
       "      <td>-180.003</td>\n",
       "      <td>0.957554</td>\n",
       "      <td>0.078320</td>\n",
       "      <td>5.0</td>\n",
       "      <td>63.0</td>\n",
       "      <td>0.0</td>\n",
       "      <td>181.168</td>\n",
       "      <td>-0.004053</td>\n",
       "      <td>-0.023435</td>\n",
       "      <td>0.037980</td>\n",
       "      <td>-2.220340</td>\n",
       "    </tr>\n",
       "    <tr>\n",
       "      <th>1</th>\n",
       "      <td>1.0</td>\n",
       "      <td>2.0</td>\n",
       "      <td>2.0</td>\n",
       "      <td>-182.998</td>\n",
       "      <td>0.994880</td>\n",
       "      <td>0.078320</td>\n",
       "      <td>5.0</td>\n",
       "      <td>31.0</td>\n",
       "      <td>0.0</td>\n",
       "      <td>183.567</td>\n",
       "      <td>0.001418</td>\n",
       "      <td>-0.033466</td>\n",
       "      <td>0.048358</td>\n",
       "      <td>-2.762470</td>\n",
       "    </tr>\n",
       "    <tr>\n",
       "      <th>2</th>\n",
       "      <td>1.0</td>\n",
       "      <td>3.0</td>\n",
       "      <td>3.0</td>\n",
       "      <td>-182.327</td>\n",
       "      <td>0.999812</td>\n",
       "      <td>0.078320</td>\n",
       "      <td>6.0</td>\n",
       "      <td>63.0</td>\n",
       "      <td>0.0</td>\n",
       "      <td>185.551</td>\n",
       "      <td>-0.052365</td>\n",
       "      <td>-0.006084</td>\n",
       "      <td>0.024835</td>\n",
       "      <td>0.137938</td>\n",
       "    </tr>\n",
       "    <tr>\n",
       "      <th>3</th>\n",
       "      <td>1.0</td>\n",
       "      <td>4.0</td>\n",
       "      <td>4.0</td>\n",
       "      <td>-180.008</td>\n",
       "      <td>0.950218</td>\n",
       "      <td>0.078320</td>\n",
       "      <td>6.0</td>\n",
       "      <td>63.0</td>\n",
       "      <td>0.0</td>\n",
       "      <td>184.044</td>\n",
       "      <td>-0.020366</td>\n",
       "      <td>-0.032013</td>\n",
       "      <td>0.038163</td>\n",
       "      <td>-0.272702</td>\n",
       "    </tr>\n",
       "    <tr>\n",
       "      <th>4</th>\n",
       "      <td>1.0</td>\n",
       "      <td>5.0</td>\n",
       "      <td>5.0</td>\n",
       "      <td>-179.387</td>\n",
       "      <td>0.762771</td>\n",
       "      <td>0.078320</td>\n",
       "      <td>3.0</td>\n",
       "      <td>11.0</td>\n",
       "      <td>0.0</td>\n",
       "      <td>181.781</td>\n",
       "      <td>-0.017688</td>\n",
       "      <td>-0.029476</td>\n",
       "      <td>0.037156</td>\n",
       "      <td>-0.422356</td>\n",
       "    </tr>\n",
       "    <tr>\n",
       "      <th>...</th>\n",
       "      <td>...</td>\n",
       "      <td>...</td>\n",
       "      <td>...</td>\n",
       "      <td>...</td>\n",
       "      <td>...</td>\n",
       "      <td>...</td>\n",
       "      <td>...</td>\n",
       "      <td>...</td>\n",
       "      <td>...</td>\n",
       "      <td>...</td>\n",
       "      <td>...</td>\n",
       "      <td>...</td>\n",
       "      <td>...</td>\n",
       "      <td>...</td>\n",
       "    </tr>\n",
       "    <tr>\n",
       "      <th>7995</th>\n",
       "      <td>4.0</td>\n",
       "      <td>1996.0</td>\n",
       "      <td>7996.0</td>\n",
       "      <td>-181.453</td>\n",
       "      <td>0.999820</td>\n",
       "      <td>0.070155</td>\n",
       "      <td>5.0</td>\n",
       "      <td>31.0</td>\n",
       "      <td>0.0</td>\n",
       "      <td>181.803</td>\n",
       "      <td>-0.047266</td>\n",
       "      <td>-0.004387</td>\n",
       "      <td>0.027421</td>\n",
       "      <td>-0.708321</td>\n",
       "    </tr>\n",
       "    <tr>\n",
       "      <th>7996</th>\n",
       "      <td>4.0</td>\n",
       "      <td>1997.0</td>\n",
       "      <td>7997.0</td>\n",
       "      <td>-179.533</td>\n",
       "      <td>0.961025</td>\n",
       "      <td>0.070155</td>\n",
       "      <td>6.0</td>\n",
       "      <td>63.0</td>\n",
       "      <td>0.0</td>\n",
       "      <td>183.997</td>\n",
       "      <td>-0.034545</td>\n",
       "      <td>-0.014298</td>\n",
       "      <td>0.037885</td>\n",
       "      <td>-1.596070</td>\n",
       "    </tr>\n",
       "    <tr>\n",
       "      <th>7997</th>\n",
       "      <td>4.0</td>\n",
       "      <td>1998.0</td>\n",
       "      <td>7998.0</td>\n",
       "      <td>-181.400</td>\n",
       "      <td>0.998275</td>\n",
       "      <td>0.070155</td>\n",
       "      <td>5.0</td>\n",
       "      <td>47.0</td>\n",
       "      <td>0.0</td>\n",
       "      <td>185.164</td>\n",
       "      <td>0.000241</td>\n",
       "      <td>-0.032889</td>\n",
       "      <td>0.031119</td>\n",
       "      <td>-0.148705</td>\n",
       "    </tr>\n",
       "    <tr>\n",
       "      <th>7998</th>\n",
       "      <td>4.0</td>\n",
       "      <td>1999.0</td>\n",
       "      <td>7999.0</td>\n",
       "      <td>-184.222</td>\n",
       "      <td>0.891450</td>\n",
       "      <td>0.070155</td>\n",
       "      <td>6.0</td>\n",
       "      <td>63.0</td>\n",
       "      <td>0.0</td>\n",
       "      <td>185.989</td>\n",
       "      <td>-0.017585</td>\n",
       "      <td>-0.026076</td>\n",
       "      <td>0.052013</td>\n",
       "      <td>-3.025800</td>\n",
       "    </tr>\n",
       "    <tr>\n",
       "      <th>7999</th>\n",
       "      <td>4.0</td>\n",
       "      <td>2000.0</td>\n",
       "      <td>8000.0</td>\n",
       "      <td>-179.116</td>\n",
       "      <td>0.993847</td>\n",
       "      <td>0.070155</td>\n",
       "      <td>5.0</td>\n",
       "      <td>31.0</td>\n",
       "      <td>0.0</td>\n",
       "      <td>185.375</td>\n",
       "      <td>-0.026433</td>\n",
       "      <td>-0.023495</td>\n",
       "      <td>0.041442</td>\n",
       "      <td>-1.447690</td>\n",
       "    </tr>\n",
       "  </tbody>\n",
       "</table>\n",
       "<p>8000 rows × 14 columns</p>\n",
       "</div>"
      ],
      "text/plain": [
       "      chain__  iter__  draw__     lp__  accept_stat__  stepsize__  \\\n",
       "0         1.0     1.0     1.0 -180.003       0.957554    0.078320   \n",
       "1         1.0     2.0     2.0 -182.998       0.994880    0.078320   \n",
       "2         1.0     3.0     3.0 -182.327       0.999812    0.078320   \n",
       "3         1.0     4.0     4.0 -180.008       0.950218    0.078320   \n",
       "4         1.0     5.0     5.0 -179.387       0.762771    0.078320   \n",
       "...       ...     ...     ...      ...            ...         ...   \n",
       "7995      4.0  1996.0  7996.0 -181.453       0.999820    0.070155   \n",
       "7996      4.0  1997.0  7997.0 -179.533       0.961025    0.070155   \n",
       "7997      4.0  1998.0  7998.0 -181.400       0.998275    0.070155   \n",
       "7998      4.0  1999.0  7999.0 -184.222       0.891450    0.070155   \n",
       "7999      4.0  2000.0  8000.0 -179.116       0.993847    0.070155   \n",
       "\n",
       "      treedepth__  n_leapfrog__  divergent__  energy__   beta[1]   beta[2]  \\\n",
       "0             5.0          63.0          0.0   181.168 -0.004053 -0.023435   \n",
       "1             5.0          31.0          0.0   183.567  0.001418 -0.033466   \n",
       "2             6.0          63.0          0.0   185.551 -0.052365 -0.006084   \n",
       "3             6.0          63.0          0.0   184.044 -0.020366 -0.032013   \n",
       "4             3.0          11.0          0.0   181.781 -0.017688 -0.029476   \n",
       "...           ...           ...          ...       ...       ...       ...   \n",
       "7995          5.0          31.0          0.0   181.803 -0.047266 -0.004387   \n",
       "7996          6.0          63.0          0.0   183.997 -0.034545 -0.014298   \n",
       "7997          5.0          47.0          0.0   185.164  0.000241 -0.032889   \n",
       "7998          6.0          63.0          0.0   185.989 -0.017585 -0.026076   \n",
       "7999          5.0          31.0          0.0   185.375 -0.026433 -0.023495   \n",
       "\n",
       "       beta[3]     alpha  \n",
       "0     0.037980 -2.220340  \n",
       "1     0.048358 -2.762470  \n",
       "2     0.024835  0.137938  \n",
       "3     0.038163 -0.272702  \n",
       "4     0.037156 -0.422356  \n",
       "...        ...       ...  \n",
       "7995  0.027421 -0.708321  \n",
       "7996  0.037885 -1.596070  \n",
       "7997  0.031119 -0.148705  \n",
       "7998  0.052013 -3.025800  \n",
       "7999  0.041442 -1.447690  \n",
       "\n",
       "[8000 rows x 14 columns]"
      ]
     },
     "execution_count": 24,
     "metadata": {},
     "output_type": "execute_result"
    }
   ],
   "source": [
    "results"
   ]
  },
  {
   "cell_type": "code",
   "execution_count": 27,
   "metadata": {},
   "outputs": [
    {
     "name": "stderr",
     "output_type": "stream",
     "text": [
      "19:01:47 - cmdstanpy - INFO - CmdStan start processing\n"
     ]
    },
    {
     "data": {
      "application/json": {
       "ascii": false,
       "bar_format": "{desc} |{bar}| {elapsed} {postfix[0][value]}",
       "colour": null,
       "elapsed": 0.01011037826538086,
       "initial": 0,
       "n": 0,
       "ncols": null,
       "nrows": null,
       "postfix": [
        {
         "value": "Status"
        }
       ],
       "prefix": "chain 1",
       "rate": null,
       "total": 32,
       "unit": "it",
       "unit_divisor": 1000,
       "unit_scale": false
      },
      "application/vnd.jupyter.widget-view+json": {
       "model_id": "135c9c5c312d4748a94eb7a53637c27b",
       "version_major": 2,
       "version_minor": 0
      },
      "text/plain": [
       "chain 1 |          | 00:00 Status"
      ]
     },
     "metadata": {},
     "output_type": "display_data"
    },
    {
     "data": {
      "application/json": {
       "ascii": false,
       "bar_format": "{desc} |{bar}| {elapsed} {postfix[0][value]}",
       "colour": null,
       "elapsed": 0.012410879135131836,
       "initial": 0,
       "n": 0,
       "ncols": null,
       "nrows": null,
       "postfix": [
        {
         "value": "Status"
        }
       ],
       "prefix": "chain 2",
       "rate": null,
       "total": 32,
       "unit": "it",
       "unit_divisor": 1000,
       "unit_scale": false
      },
      "application/vnd.jupyter.widget-view+json": {
       "model_id": "b9a08fde01de4a60abbe184450c82c07",
       "version_major": 2,
       "version_minor": 0
      },
      "text/plain": [
       "chain 2 |          | 00:00 Status"
      ]
     },
     "metadata": {},
     "output_type": "display_data"
    },
    {
     "data": {
      "application/json": {
       "ascii": false,
       "bar_format": "{desc} |{bar}| {elapsed} {postfix[0][value]}",
       "colour": null,
       "elapsed": 0.009663105010986328,
       "initial": 0,
       "n": 0,
       "ncols": null,
       "nrows": null,
       "postfix": [
        {
         "value": "Status"
        }
       ],
       "prefix": "chain 3",
       "rate": null,
       "total": 32,
       "unit": "it",
       "unit_divisor": 1000,
       "unit_scale": false
      },
      "application/vnd.jupyter.widget-view+json": {
       "model_id": "86057d2460e84d0087a9f8713343b070",
       "version_major": 2,
       "version_minor": 0
      },
      "text/plain": [
       "chain 3 |          | 00:00 Status"
      ]
     },
     "metadata": {},
     "output_type": "display_data"
    },
    {
     "data": {
      "application/json": {
       "ascii": false,
       "bar_format": "{desc} |{bar}| {elapsed} {postfix[0][value]}",
       "colour": null,
       "elapsed": 0.0066699981689453125,
       "initial": 0,
       "n": 0,
       "ncols": null,
       "nrows": null,
       "postfix": [
        {
         "value": "Status"
        }
       ],
       "prefix": "chain 4",
       "rate": null,
       "total": 32,
       "unit": "it",
       "unit_divisor": 1000,
       "unit_scale": false
      },
      "application/vnd.jupyter.widget-view+json": {
       "model_id": "bedf05a738da470e96fe059cfe7edf79",
       "version_major": 2,
       "version_minor": 0
      },
      "text/plain": [
       "chain 4 |          | 00:00 Status"
      ]
     },
     "metadata": {},
     "output_type": "display_data"
    },
    {
     "name": "stdout",
     "output_type": "stream",
     "text": [
      "                                                                                                                                                                                                                                                                                                                                "
     ]
    },
    {
     "name": "stderr",
     "output_type": "stream",
     "text": [
      "19:01:52 - cmdstanpy - INFO - CmdStan done processing.\n"
     ]
    },
    {
     "name": "stdout",
     "output_type": "stream",
     "text": [
      "\n",
      "Predicted probability of heart disease: 0.30\n"
     ]
    },
    {
     "name": "stderr",
     "output_type": "stream",
     "text": [
      "/usr/local/lib/python3.12/site-packages/sklearn/base.py:493: UserWarning: X does not have valid feature names, but StandardScaler was fitted with feature names\n",
      "  warnings.warn(\n"
     ]
    },
    {
     "data": {
      "image/png": "[encoded data removed]",
      "text/plain": [
       "<Figure size 1080x504 with 1 Axes>"
      ]
     },
     "metadata": {
      "needs_background": "light"
     },
     "output_type": "display_data"
    },
    {
     "data": {
      "image/png": "[encoded data removed]",
      "text/plain": [
       "<Figure size 1080x504 with 1 Axes>"
      ]
     },
     "metadata": {
      "needs_background": "light"
     },
     "output_type": "display_data"
    },
    {
     "data": {
      "image/png": "[encoded data removed]",
      "text/plain": [
       "<Figure size 1080x504 with 1 Axes>"
      ]
     },
     "metadata": {
      "needs_background": "light"
     },
     "output_type": "display_data"
    }
   ],
   "source": [
    "fit = model.sample(data=stan_data, iter_sampling=2000, chains=4)\n",
    "\n",
    "results = fit.draws_pd()\n",
    "\n",
    "feature_names = ['age', 'trestbps', 'thalach']\n",
    "param_names = [f'beta[{i+1}]' for i in range(len(feature_names))]\n",
    "param_mapping = dict(zip(param_names, feature_names))\n",
    "\n",
    "beta_columns = [col for col in results.columns if col in param_mapping]\n",
    "\n",
    "beta_samples = results[beta_columns].values\n",
    "\n",
    "new_data = np.array([60, 140, 172])  # example new data point\n",
    "new_data_scaled = scaler.transform([new_data])\n",
    "\n",
    "def sigmoid(x):\n",
    "    return 1 / (1 + np.exp(-x))\n",
    "\n",
    "# Predictive probabilities from posterior samples\n",
    "pred_probs = sigmoid(np.dot(beta_samples, new_data_scaled.T) + results['alpha'].values[:, np.newaxis])\n",
    "\n",
    "# Aggregate predictions\n",
    "predicted_prob = np.mean(pred_probs)\n",
    "print(f'Predicted probability of heart disease: {predicted_prob:.2f}')\n",
    "\n",
    "# Plot the posterior distributions in separate figures\n",
    "for column in beta_columns:\n",
    "    plt.figure(figsize=(15, 7))\n",
    "    sns.histplot(results[column], kde=True)\n",
    "    param_name = param_mapping[column]\n",
    "    plt.title(f'Posterior Distribution of {param_name}')\n",
    "    plt.xlabel('Value')\n",
    "    plt.ylabel('Density')\n",
    "    plt.grid(True)\n",
    "    plt.show()"
   ]
  },
  {
   "cell_type": "code",
   "execution_count": 21,
   "metadata": {},
   "outputs": [
    {
     "data": {
      "text/html": [
       "<div>\n",
       "<style scoped>\n",
       "    .dataframe tbody tr th:only-of-type {\n",
       "        vertical-align: middle;\n",
       "    }\n",
       "\n",
       "    .dataframe tbody tr th {\n",
       "        vertical-align: top;\n",
       "    }\n",
       "\n",
       "    .dataframe thead th {\n",
       "        text-align: right;\n",
       "    }\n",
       "</style>\n",
       "<table border=\"1\" class=\"dataframe\">\n",
       "  <thead>\n",
       "    <tr style=\"text-align: right;\">\n",
       "      <th></th>\n",
       "      <th>chain__</th>\n",
       "      <th>iter__</th>\n",
       "      <th>draw__</th>\n",
       "      <th>lp__</th>\n",
       "      <th>accept_stat__</th>\n",
       "      <th>stepsize__</th>\n",
       "      <th>treedepth__</th>\n",
       "      <th>n_leapfrog__</th>\n",
       "      <th>divergent__</th>\n",
       "      <th>energy__</th>\n",
       "      <th>beta[1]</th>\n",
       "      <th>beta[2]</th>\n",
       "      <th>beta[3]</th>\n",
       "      <th>alpha</th>\n",
       "    </tr>\n",
       "  </thead>\n",
       "  <tbody>\n",
       "    <tr>\n",
       "      <th>0</th>\n",
       "      <td>1.0</td>\n",
       "      <td>1.0</td>\n",
       "      <td>1.0</td>\n",
       "      <td>-178.946</td>\n",
       "      <td>0.949034</td>\n",
       "      <td>0.072605</td>\n",
       "      <td>5.0</td>\n",
       "      <td>31.0</td>\n",
       "      <td>0.0</td>\n",
       "      <td>182.285</td>\n",
       "      <td>-0.020543</td>\n",
       "      <td>-0.020154</td>\n",
       "      <td>0.031838</td>\n",
       "      <td>-0.685918</td>\n",
       "    </tr>\n",
       "    <tr>\n",
       "      <th>1</th>\n",
       "      <td>1.0</td>\n",
       "      <td>2.0</td>\n",
       "      <td>2.0</td>\n",
       "      <td>-180.079</td>\n",
       "      <td>0.949140</td>\n",
       "      <td>0.072605</td>\n",
       "      <td>6.0</td>\n",
       "      <td>63.0</td>\n",
       "      <td>0.0</td>\n",
       "      <td>181.019</td>\n",
       "      <td>-0.006758</td>\n",
       "      <td>-0.027852</td>\n",
       "      <td>0.034728</td>\n",
       "      <td>-1.113920</td>\n",
       "    </tr>\n",
       "    <tr>\n",
       "      <th>2</th>\n",
       "      <td>1.0</td>\n",
       "      <td>3.0</td>\n",
       "      <td>3.0</td>\n",
       "      <td>-181.207</td>\n",
       "      <td>0.880350</td>\n",
       "      <td>0.072605</td>\n",
       "      <td>4.0</td>\n",
       "      <td>19.0</td>\n",
       "      <td>0.0</td>\n",
       "      <td>182.866</td>\n",
       "      <td>0.001087</td>\n",
       "      <td>-0.030232</td>\n",
       "      <td>0.034075</td>\n",
       "      <td>-1.147280</td>\n",
       "    </tr>\n",
       "    <tr>\n",
       "      <th>3</th>\n",
       "      <td>1.0</td>\n",
       "      <td>4.0</td>\n",
       "      <td>4.0</td>\n",
       "      <td>-181.010</td>\n",
       "      <td>0.933886</td>\n",
       "      <td>0.072605</td>\n",
       "      <td>2.0</td>\n",
       "      <td>3.0</td>\n",
       "      <td>0.0</td>\n",
       "      <td>182.004</td>\n",
       "      <td>0.001004</td>\n",
       "      <td>-0.029342</td>\n",
       "      <td>0.034837</td>\n",
       "      <td>-1.024500</td>\n",
       "    </tr>\n",
       "    <tr>\n",
       "      <th>4</th>\n",
       "      <td>1.0</td>\n",
       "      <td>5.0</td>\n",
       "      <td>5.0</td>\n",
       "      <td>-183.267</td>\n",
       "      <td>0.978770</td>\n",
       "      <td>0.072605</td>\n",
       "      <td>6.0</td>\n",
       "      <td>63.0</td>\n",
       "      <td>0.0</td>\n",
       "      <td>185.592</td>\n",
       "      <td>-0.022508</td>\n",
       "      <td>-0.008100</td>\n",
       "      <td>0.035632</td>\n",
       "      <td>-3.027630</td>\n",
       "    </tr>\n",
       "    <tr>\n",
       "      <th>...</th>\n",
       "      <td>...</td>\n",
       "      <td>...</td>\n",
       "      <td>...</td>\n",
       "      <td>...</td>\n",
       "      <td>...</td>\n",
       "      <td>...</td>\n",
       "      <td>...</td>\n",
       "      <td>...</td>\n",
       "      <td>...</td>\n",
       "      <td>...</td>\n",
       "      <td>...</td>\n",
       "      <td>...</td>\n",
       "      <td>...</td>\n",
       "      <td>...</td>\n",
       "    </tr>\n",
       "    <tr>\n",
       "      <th>7995</th>\n",
       "      <td>4.0</td>\n",
       "      <td>1996.0</td>\n",
       "      <td>7996.0</td>\n",
       "      <td>-179.673</td>\n",
       "      <td>0.995227</td>\n",
       "      <td>0.073472</td>\n",
       "      <td>6.0</td>\n",
       "      <td>63.0</td>\n",
       "      <td>0.0</td>\n",
       "      <td>181.118</td>\n",
       "      <td>-0.005747</td>\n",
       "      <td>-0.031232</td>\n",
       "      <td>0.039640</td>\n",
       "      <td>-1.278340</td>\n",
       "    </tr>\n",
       "    <tr>\n",
       "      <th>7996</th>\n",
       "      <td>4.0</td>\n",
       "      <td>1997.0</td>\n",
       "      <td>7997.0</td>\n",
       "      <td>-178.651</td>\n",
       "      <td>0.999779</td>\n",
       "      <td>0.073472</td>\n",
       "      <td>4.0</td>\n",
       "      <td>31.0</td>\n",
       "      <td>0.0</td>\n",
       "      <td>180.355</td>\n",
       "      <td>-0.018649</td>\n",
       "      <td>-0.025632</td>\n",
       "      <td>0.037771</td>\n",
       "      <td>-1.046910</td>\n",
       "    </tr>\n",
       "    <tr>\n",
       "      <th>7997</th>\n",
       "      <td>4.0</td>\n",
       "      <td>1998.0</td>\n",
       "      <td>7998.0</td>\n",
       "      <td>-179.085</td>\n",
       "      <td>0.999675</td>\n",
       "      <td>0.073472</td>\n",
       "      <td>6.0</td>\n",
       "      <td>63.0</td>\n",
       "      <td>0.0</td>\n",
       "      <td>179.355</td>\n",
       "      <td>-0.036245</td>\n",
       "      <td>-0.012839</td>\n",
       "      <td>0.032644</td>\n",
       "      <td>-1.001060</td>\n",
       "    </tr>\n",
       "    <tr>\n",
       "      <th>7998</th>\n",
       "      <td>4.0</td>\n",
       "      <td>1999.0</td>\n",
       "      <td>7999.0</td>\n",
       "      <td>-179.560</td>\n",
       "      <td>0.974205</td>\n",
       "      <td>0.073472</td>\n",
       "      <td>6.0</td>\n",
       "      <td>63.0</td>\n",
       "      <td>0.0</td>\n",
       "      <td>181.128</td>\n",
       "      <td>-0.017854</td>\n",
       "      <td>-0.014907</td>\n",
       "      <td>0.035440</td>\n",
       "      <td>-2.130670</td>\n",
       "    </tr>\n",
       "    <tr>\n",
       "      <th>7999</th>\n",
       "      <td>4.0</td>\n",
       "      <td>2000.0</td>\n",
       "      <td>8000.0</td>\n",
       "      <td>-180.235</td>\n",
       "      <td>0.996781</td>\n",
       "      <td>0.073472</td>\n",
       "      <td>6.0</td>\n",
       "      <td>63.0</td>\n",
       "      <td>0.0</td>\n",
       "      <td>181.070</td>\n",
       "      <td>-0.043002</td>\n",
       "      <td>-0.018297</td>\n",
       "      <td>0.030269</td>\n",
       "      <td>0.408731</td>\n",
       "    </tr>\n",
       "  </tbody>\n",
       "</table>\n",
       "<p>8000 rows × 14 columns</p>\n",
       "</div>"
      ],
      "text/plain": [
       "      chain__  iter__  draw__     lp__  accept_stat__  stepsize__  \\\n",
       "0         1.0     1.0     1.0 -178.946       0.949034    0.072605   \n",
       "1         1.0     2.0     2.0 -180.079       0.949140    0.072605   \n",
       "2         1.0     3.0     3.0 -181.207       0.880350    0.072605   \n",
       "3         1.0     4.0     4.0 -181.010       0.933886    0.072605   \n",
       "4         1.0     5.0     5.0 -183.267       0.978770    0.072605   \n",
       "...       ...     ...     ...      ...            ...         ...   \n",
       "7995      4.0  1996.0  7996.0 -179.673       0.995227    0.073472   \n",
       "7996      4.0  1997.0  7997.0 -178.651       0.999779    0.073472   \n",
       "7997      4.0  1998.0  7998.0 -179.085       0.999675    0.073472   \n",
       "7998      4.0  1999.0  7999.0 -179.560       0.974205    0.073472   \n",
       "7999      4.0  2000.0  8000.0 -180.235       0.996781    0.073472   \n",
       "\n",
       "      treedepth__  n_leapfrog__  divergent__  energy__   beta[1]   beta[2]  \\\n",
       "0             5.0          31.0          0.0   182.285 -0.020543 -0.020154   \n",
       "1             6.0          63.0          0.0   181.019 -0.006758 -0.027852   \n",
       "2             4.0          19.0          0.0   182.866  0.001087 -0.030232   \n",
       "3             2.0           3.0          0.0   182.004  0.001004 -0.029342   \n",
       "4             6.0          63.0          0.0   185.592 -0.022508 -0.008100   \n",
       "...           ...           ...          ...       ...       ...       ...   \n",
       "7995          6.0          63.0          0.0   181.118 -0.005747 -0.031232   \n",
       "7996          4.0          31.0          0.0   180.355 -0.018649 -0.025632   \n",
       "7997          6.0          63.0          0.0   179.355 -0.036245 -0.012839   \n",
       "7998          6.0          63.0          0.0   181.128 -0.017854 -0.014907   \n",
       "7999          6.0          63.0          0.0   181.070 -0.043002 -0.018297   \n",
       "\n",
       "       beta[3]     alpha  \n",
       "0     0.031838 -0.685918  \n",
       "1     0.034728 -1.113920  \n",
       "2     0.034075 -1.147280  \n",
       "3     0.034837 -1.024500  \n",
       "4     0.035632 -3.027630  \n",
       "...        ...       ...  \n",
       "7995  0.039640 -1.278340  \n",
       "7996  0.037771 -1.046910  \n",
       "7997  0.032644 -1.001060  \n",
       "7998  0.035440 -2.130670  \n",
       "7999  0.030269  0.408731  \n",
       "\n",
       "[8000 rows x 14 columns]"
      ]
     },
     "execution_count": 21,
     "metadata": {},
     "output_type": "execute_result"
    }
   ],
   "source": [
    "results"
   ]
  },
  {
   "cell_type": "code",
   "execution_count": 16,
   "metadata": {},
   "outputs": [
    {
     "name": "stdout",
     "output_type": "stream",
     "text": [
      "Predicted probability of heart disease for age 60: 0.17\n"
     ]
    }
   ],
   "source": [
    "# Sample from the posterior distribution of the age coefficient\n",
    "beta_age_samples = results['beta[1]'].values  # Assuming 'beta[1]' corresponds to 'age'\n",
    "\n",
    "# New data example: age = 60\n",
    "new_age = 82\n",
    "\n",
    "# Calculate the linear predictor (log-odds) for each sample\n",
    "log_odds = beta_age_samples * new_age\n",
    "\n",
    "# Convert log-odds to probability\n",
    "def sigmoid(x):\n",
    "    return 1 / (1 + np.exp(-x))\n",
    "\n",
    "probabilities = sigmoid(log_odds)\n",
    "\n",
    "# Aggregate the probabilities\n",
    "predicted_prob = np.mean(probabilities)\n",
    "print(f'Predicted probability of heart disease for age 60: {predicted_prob:.2f}')\n"
   ]
  },
  {
   "cell_type": "code",
   "execution_count": 17,
   "metadata": {},
   "outputs": [
    {
     "name": "stdout",
     "output_type": "stream",
     "text": [
      "Predicted probability of heart disease for trestbps 140: 0.07\n"
     ]
    }
   ],
   "source": [
    "# Sample from the posterior distribution of the trestbps coefficient\n",
    "beta_trestbps_samples = results['beta[2]'].values  # Assuming 'beta[2]' corresponds to 'trestbps'\n",
    "\n",
    "# New data example: trestbps = 140\n",
    "new_trestbps = 140\n",
    "\n",
    "# Calculate the linear predictor (log-odds) for each sample\n",
    "log_odds = beta_trestbps_samples * new_trestbps\n",
    "\n",
    "# Convert log-odds to probability\n",
    "def sigmoid(x):\n",
    "    return 1 / (1 + np.exp(-x))\n",
    "\n",
    "probabilities = sigmoid(log_odds)\n",
    "\n",
    "# Aggregate the probabilities\n",
    "predicted_prob = np.mean(probabilities)\n",
    "print(f'Predicted probability of heart disease for trestbps 140: {predicted_prob:.2f}')\n"
   ]
  }
 ],
 "metadata": {
  "kernelspec": {
   "display_name": "Python 3 (ipykernel)",
   "language": "python",
   "name": "python3"
  },
  "language_info": {
   "codemirror_mode": {
    "name": "ipython",
    "version": 3
   },
   "file_extension": ".py",
   "mimetype": "text/x-python",
   "name": "python",
   "nbconvert_exporter": "python",
   "pygments_lexer": "ipython3",
   "version": "3.12.2"
  }
 },
 "nbformat": 4,
 "nbformat_minor": 2
}
