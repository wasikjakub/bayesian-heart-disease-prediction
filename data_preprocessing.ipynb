{
 "cells": [
  {
   "cell_type": "code",
   "execution_count": 66,
   "metadata": {},
   "outputs": [],
   "source": [
    "import pandas as pd\n",
    "import numpy as np\n",
    "import matplotlib.pyplot as plt\n",
    "from cmdstanpy import CmdStanModel\n",
    "from sklearn.preprocessing import StandardScaler\n",
    "import seaborn as sns"
   ]
  },
  {
   "cell_type": "code",
   "execution_count": 17,
   "metadata": {},
   "outputs": [],
   "source": [
    "data = pd.read_csv('heart.csv').dropna()\n",
    "data_pd = data.copy()"
   ]
  },
  {
   "cell_type": "code",
   "execution_count": 18,
   "metadata": {},
   "outputs": [
    {
     "data": {
      "text/html": [
       "<div>\n",
       "<style scoped>\n",
       "    .dataframe tbody tr th:only-of-type {\n",
       "        vertical-align: middle;\n",
       "    }\n",
       "\n",
       "    .dataframe tbody tr th {\n",
       "        vertical-align: top;\n",
       "    }\n",
       "\n",
       "    .dataframe thead th {\n",
       "        text-align: right;\n",
       "    }\n",
       "</style>\n",
       "<table border=\"1\" class=\"dataframe\">\n",
       "  <thead>\n",
       "    <tr style=\"text-align: right;\">\n",
       "      <th></th>\n",
       "      <th>age</th>\n",
       "      <th>trestbps</th>\n",
       "      <th>thalach</th>\n",
       "    </tr>\n",
       "  </thead>\n",
       "  <tbody>\n",
       "    <tr>\n",
       "      <th>0</th>\n",
       "      <td>63</td>\n",
       "      <td>145</td>\n",
       "      <td>150</td>\n",
       "    </tr>\n",
       "    <tr>\n",
       "      <th>1</th>\n",
       "      <td>37</td>\n",
       "      <td>130</td>\n",
       "      <td>187</td>\n",
       "    </tr>\n",
       "    <tr>\n",
       "      <th>2</th>\n",
       "      <td>41</td>\n",
       "      <td>130</td>\n",
       "      <td>172</td>\n",
       "    </tr>\n",
       "    <tr>\n",
       "      <th>3</th>\n",
       "      <td>56</td>\n",
       "      <td>120</td>\n",
       "      <td>178</td>\n",
       "    </tr>\n",
       "    <tr>\n",
       "      <th>4</th>\n",
       "      <td>57</td>\n",
       "      <td>120</td>\n",
       "      <td>163</td>\n",
       "    </tr>\n",
       "    <tr>\n",
       "      <th>...</th>\n",
       "      <td>...</td>\n",
       "      <td>...</td>\n",
       "      <td>...</td>\n",
       "    </tr>\n",
       "    <tr>\n",
       "      <th>298</th>\n",
       "      <td>57</td>\n",
       "      <td>140</td>\n",
       "      <td>123</td>\n",
       "    </tr>\n",
       "    <tr>\n",
       "      <th>299</th>\n",
       "      <td>45</td>\n",
       "      <td>110</td>\n",
       "      <td>132</td>\n",
       "    </tr>\n",
       "    <tr>\n",
       "      <th>300</th>\n",
       "      <td>68</td>\n",
       "      <td>144</td>\n",
       "      <td>141</td>\n",
       "    </tr>\n",
       "    <tr>\n",
       "      <th>301</th>\n",
       "      <td>57</td>\n",
       "      <td>130</td>\n",
       "      <td>115</td>\n",
       "    </tr>\n",
       "    <tr>\n",
       "      <th>302</th>\n",
       "      <td>57</td>\n",
       "      <td>130</td>\n",
       "      <td>174</td>\n",
       "    </tr>\n",
       "  </tbody>\n",
       "</table>\n",
       "<p>303 rows × 3 columns</p>\n",
       "</div>"
      ],
      "text/plain": [
       "     age  trestbps  thalach\n",
       "0     63       145      150\n",
       "1     37       130      187\n",
       "2     41       130      172\n",
       "3     56       120      178\n",
       "4     57       120      163\n",
       "..   ...       ...      ...\n",
       "298   57       140      123\n",
       "299   45       110      132\n",
       "300   68       144      141\n",
       "301   57       130      115\n",
       "302   57       130      174\n",
       "\n",
       "[303 rows x 3 columns]"
      ]
     },
     "execution_count": 18,
     "metadata": {},
     "output_type": "execute_result"
    }
   ],
   "source": [
    "data1 = data[['age', 'trestbps', 'thalach']]\n",
    "data1"
   ]
  },
  {
   "cell_type": "code",
   "execution_count": 19,
   "metadata": {},
   "outputs": [
    {
     "data": {
      "text/html": [
       "<div>\n",
       "<style scoped>\n",
       "    .dataframe tbody tr th:only-of-type {\n",
       "        vertical-align: middle;\n",
       "    }\n",
       "\n",
       "    .dataframe tbody tr th {\n",
       "        vertical-align: top;\n",
       "    }\n",
       "\n",
       "    .dataframe thead th {\n",
       "        text-align: right;\n",
       "    }\n",
       "</style>\n",
       "<table border=\"1\" class=\"dataframe\">\n",
       "  <thead>\n",
       "    <tr style=\"text-align: right;\">\n",
       "      <th></th>\n",
       "      <th>age</th>\n",
       "      <th>trestbps</th>\n",
       "      <th>thalach</th>\n",
       "      <th>cp</th>\n",
       "      <th>chol</th>\n",
       "      <th>oldpeak</th>\n",
       "    </tr>\n",
       "  </thead>\n",
       "  <tbody>\n",
       "    <tr>\n",
       "      <th>0</th>\n",
       "      <td>63</td>\n",
       "      <td>145</td>\n",
       "      <td>150</td>\n",
       "      <td>3</td>\n",
       "      <td>233</td>\n",
       "      <td>2.3</td>\n",
       "    </tr>\n",
       "    <tr>\n",
       "      <th>1</th>\n",
       "      <td>37</td>\n",
       "      <td>130</td>\n",
       "      <td>187</td>\n",
       "      <td>2</td>\n",
       "      <td>250</td>\n",
       "      <td>3.5</td>\n",
       "    </tr>\n",
       "    <tr>\n",
       "      <th>2</th>\n",
       "      <td>41</td>\n",
       "      <td>130</td>\n",
       "      <td>172</td>\n",
       "      <td>1</td>\n",
       "      <td>204</td>\n",
       "      <td>1.4</td>\n",
       "    </tr>\n",
       "    <tr>\n",
       "      <th>3</th>\n",
       "      <td>56</td>\n",
       "      <td>120</td>\n",
       "      <td>178</td>\n",
       "      <td>1</td>\n",
       "      <td>236</td>\n",
       "      <td>0.8</td>\n",
       "    </tr>\n",
       "    <tr>\n",
       "      <th>4</th>\n",
       "      <td>57</td>\n",
       "      <td>120</td>\n",
       "      <td>163</td>\n",
       "      <td>0</td>\n",
       "      <td>354</td>\n",
       "      <td>0.6</td>\n",
       "    </tr>\n",
       "    <tr>\n",
       "      <th>...</th>\n",
       "      <td>...</td>\n",
       "      <td>...</td>\n",
       "      <td>...</td>\n",
       "      <td>...</td>\n",
       "      <td>...</td>\n",
       "      <td>...</td>\n",
       "    </tr>\n",
       "    <tr>\n",
       "      <th>298</th>\n",
       "      <td>57</td>\n",
       "      <td>140</td>\n",
       "      <td>123</td>\n",
       "      <td>0</td>\n",
       "      <td>241</td>\n",
       "      <td>0.2</td>\n",
       "    </tr>\n",
       "    <tr>\n",
       "      <th>299</th>\n",
       "      <td>45</td>\n",
       "      <td>110</td>\n",
       "      <td>132</td>\n",
       "      <td>3</td>\n",
       "      <td>264</td>\n",
       "      <td>1.2</td>\n",
       "    </tr>\n",
       "    <tr>\n",
       "      <th>300</th>\n",
       "      <td>68</td>\n",
       "      <td>144</td>\n",
       "      <td>141</td>\n",
       "      <td>0</td>\n",
       "      <td>193</td>\n",
       "      <td>3.4</td>\n",
       "    </tr>\n",
       "    <tr>\n",
       "      <th>301</th>\n",
       "      <td>57</td>\n",
       "      <td>130</td>\n",
       "      <td>115</td>\n",
       "      <td>0</td>\n",
       "      <td>131</td>\n",
       "      <td>1.2</td>\n",
       "    </tr>\n",
       "    <tr>\n",
       "      <th>302</th>\n",
       "      <td>57</td>\n",
       "      <td>130</td>\n",
       "      <td>174</td>\n",
       "      <td>1</td>\n",
       "      <td>236</td>\n",
       "      <td>0.0</td>\n",
       "    </tr>\n",
       "  </tbody>\n",
       "</table>\n",
       "<p>303 rows × 6 columns</p>\n",
       "</div>"
      ],
      "text/plain": [
       "     age  trestbps  thalach  cp  chol  oldpeak\n",
       "0     63       145      150   3   233      2.3\n",
       "1     37       130      187   2   250      3.5\n",
       "2     41       130      172   1   204      1.4\n",
       "3     56       120      178   1   236      0.8\n",
       "4     57       120      163   0   354      0.6\n",
       "..   ...       ...      ...  ..   ...      ...\n",
       "298   57       140      123   0   241      0.2\n",
       "299   45       110      132   3   264      1.2\n",
       "300   68       144      141   0   193      3.4\n",
       "301   57       130      115   0   131      1.2\n",
       "302   57       130      174   1   236      0.0\n",
       "\n",
       "[303 rows x 6 columns]"
      ]
     },
     "execution_count": 19,
     "metadata": {},
     "output_type": "execute_result"
    }
   ],
   "source": [
    "data2 = data[['age', 'trestbps', 'thalach', 'cp', 'chol', 'oldpeak']]\n",
    "data2"
   ]
  },
  {
   "cell_type": "markdown",
   "metadata": {},
   "source": [
    "Prior 1 - age"
   ]
  },
  {
   "cell_type": "code",
   "execution_count": 20,
   "metadata": {},
   "outputs": [
    {
     "name": "stderr",
     "output_type": "stream",
     "text": [
      "INFO:cmdstanpy:found newer exe file, not recompiling\n",
      "INFO:cmdstanpy:CmdStan start processing\n",
      "chain 1 |\u001b[33m          \u001b[0m| 00:00 Status\n",
      "\u001b[A\n",
      "\n",
      "\u001b[A\u001b[A\n",
      "\u001b[A\n",
      "\n",
      "\u001b[A\u001b[A\n",
      "\u001b[A\n",
      "\n",
      "chain 1 |\u001b[33m█▍        \u001b[0m| 00:00 Iteration:    1 / 1200 [  0%]  (Warmup)\n",
      "chain 1 |\u001b[34m██████████\u001b[0m| 00:00 Sampling completed                     \n",
      "chain 2 |\u001b[34m██████████\u001b[0m| 00:00 Sampling completed\n",
      "chain 3 |\u001b[34m██████████\u001b[0m| 00:00 Sampling completed                       \n",
      "\n",
      "\n",
      "chain 4 |\u001b[34m██████████\u001b[0m| 00:00 Sampling completed"
     ]
    },
    {
     "name": "stdout",
     "output_type": "stream",
     "text": [
      "                                                                                                                                                                                                                                                "
     ]
    },
    {
     "name": "stderr",
     "output_type": "stream",
     "text": [
      "\n"
     ]
    },
    {
     "name": "stdout",
     "output_type": "stream",
     "text": [
      "                                                                                "
     ]
    },
    {
     "name": "stderr",
     "output_type": "stream",
     "text": [
      "INFO:cmdstanpy:CmdStan done processing.\n"
     ]
    },
    {
     "name": "stdout",
     "output_type": "stream",
     "text": [
      "\n"
     ]
    }
   ],
   "source": [
    "np.random.seed(42)\n",
    "ages = np.random.normal(50, 10, 100)\n",
    "heart_disease = np.random.binomial(1, 1 / (1 + np.exp(-0.1 * (ages - 70))))\n",
    "\n",
    "data = {\n",
    "    'N': len(ages),\n",
    "    'age': list(ages),\n",
    "    'heart_disease': list(heart_disease)\n",
    "}\n",
    "\n",
    "model_age = CmdStanModel(stan_file='prior1.stan')\n",
    "sim = model_age.sample(data=data,\n",
    "                        iter_sampling=200,\n",
    "                        iter_warmup=1000,\n",
    "                        chains=4,\n",
    "                        fixed_param=False,\n",
    "                        seed=24252)"
   ]
  },
  {
   "cell_type": "code",
   "execution_count": 21,
   "metadata": {},
   "outputs": [
    {
     "data": {
      "image/png": "[encoded data removed]",
      "text/plain": [
       "<Figure size 720x432 with 1 Axes>"
      ]
     },
     "metadata": {
      "needs_background": "light"
     },
     "output_type": "display_data"
    }
   ],
   "source": [
    "prior1 = sim.draws_pd()\n",
    "\n",
    "results_df = pd.DataFrame({\n",
    "    'age': data['age'],\n",
    "    'heart_disease_prob': prior1.iloc[:, 9:].mean(axis=0) # Mean probability across samples\n",
    "})\n",
    "\n",
    "# Plotting the results with matplotlib\n",
    "plt.figure(figsize=(10, 6))\n",
    "plt.scatter(results_df['age'], results_df['heart_disease_prob'], alpha=0.6)\n",
    "plt.xlabel('Age')\n",
    "plt.ylabel('Probability of Heart Disease')\n",
    "plt.title('Probability of Heart Disease by Age')\n",
    "plt.grid(True)\n",
    "plt.show()"
   ]
  },
  {
   "cell_type": "markdown",
   "metadata": {},
   "source": [
    "Prior 2 - trestbps (resting blood pressure)"
   ]
  },
  {
   "cell_type": "code",
   "execution_count": 22,
   "metadata": {},
   "outputs": [
    {
     "name": "stderr",
     "output_type": "stream",
     "text": [
      "INFO:cmdstanpy:found newer exe file, not recompiling\n",
      "INFO:cmdstanpy:CmdStan start processing\n",
      "chain 1 |\u001b[33m          \u001b[0m| 00:00 Status\n",
      "\u001b[A\n",
      "\n",
      "chain 1 |\u001b[34m██████████\u001b[0m| 00:00 Sampling completed\n",
      "chain 2 |\u001b[34m██████████\u001b[0m| 00:00 Sampling completed\n",
      "chain 3 |\u001b[34m██████████\u001b[0m| 00:00 Sampling completed\n",
      "chain 4 |\u001b[34m██████████\u001b[0m| 00:00 Sampling completed"
     ]
    },
    {
     "name": "stdout",
     "output_type": "stream",
     "text": [
      "                                                                                                                                                                                                                                                                                                                                "
     ]
    },
    {
     "name": "stderr",
     "output_type": "stream",
     "text": [
      "\n",
      "INFO:cmdstanpy:CmdStan done processing.\n"
     ]
    },
    {
     "name": "stdout",
     "output_type": "stream",
     "text": [
      "\n"
     ]
    }
   ],
   "source": [
    "np.random.seed(42)\n",
    "bps = np.random.uniform(90, 180, 100)\n",
    "heart_disease = np.random.binomial(1, 1 / (1 + np.exp(-0.05 * (bps - 120))))\n",
    "\n",
    "data = {\n",
    "    'N': len(bps),\n",
    "    'bps': list(bps),\n",
    "    'heart_disease': list(heart_disease)\n",
    "}\n",
    "\n",
    "model_age = CmdStanModel(stan_file='prior2.stan')\n",
    "sim = model_age.sample(data=data,\n",
    "                        iter_sampling=200,\n",
    "                        iter_warmup=1000,\n",
    "                        chains=4,\n",
    "                        fixed_param=True,\n",
    "                        seed=242522,)"
   ]
  },
  {
   "cell_type": "code",
   "execution_count": 23,
   "metadata": {},
   "outputs": [
    {
     "data": {
      "text/html": [
       "<div>\n",
       "<style scoped>\n",
       "    .dataframe tbody tr th:only-of-type {\n",
       "        vertical-align: middle;\n",
       "    }\n",
       "\n",
       "    .dataframe tbody tr th {\n",
       "        vertical-align: top;\n",
       "    }\n",
       "\n",
       "    .dataframe thead th {\n",
       "        text-align: right;\n",
       "    }\n",
       "</style>\n",
       "<table border=\"1\" class=\"dataframe\">\n",
       "  <thead>\n",
       "    <tr style=\"text-align: right;\">\n",
       "      <th></th>\n",
       "      <th>Mean</th>\n",
       "      <th>MCSE</th>\n",
       "      <th>StdDev</th>\n",
       "      <th>5%</th>\n",
       "      <th>50%</th>\n",
       "      <th>95%</th>\n",
       "      <th>N_Eff</th>\n",
       "      <th>N_Eff/s</th>\n",
       "      <th>R_hat</th>\n",
       "    </tr>\n",
       "    <tr>\n",
       "      <th>name</th>\n",
       "      <th></th>\n",
       "      <th></th>\n",
       "      <th></th>\n",
       "      <th></th>\n",
       "      <th></th>\n",
       "      <th></th>\n",
       "      <th></th>\n",
       "      <th></th>\n",
       "      <th></th>\n",
       "    </tr>\n",
       "  </thead>\n",
       "  <tbody>\n",
       "    <tr>\n",
       "      <th>lp__</th>\n",
       "      <td>0.00</td>\n",
       "      <td>NaN</td>\n",
       "      <td>0.0</td>\n",
       "      <td>0.0</td>\n",
       "      <td>0.00</td>\n",
       "      <td>0.00</td>\n",
       "      <td>NaN</td>\n",
       "      <td>NaN</td>\n",
       "      <td>NaN</td>\n",
       "    </tr>\n",
       "    <tr>\n",
       "      <th>alpha</th>\n",
       "      <td>-0.16</td>\n",
       "      <td>0.630</td>\n",
       "      <td>0.9</td>\n",
       "      <td>-1.7</td>\n",
       "      <td>0.33</td>\n",
       "      <td>0.45</td>\n",
       "      <td>2.0</td>\n",
       "      <td>32.0</td>\n",
       "      <td>1.500000e+15</td>\n",
       "    </tr>\n",
       "    <tr>\n",
       "      <th>beta</th>\n",
       "      <td>-0.24</td>\n",
       "      <td>0.820</td>\n",
       "      <td>1.2</td>\n",
       "      <td>-1.7</td>\n",
       "      <td>0.54</td>\n",
       "      <td>1.20</td>\n",
       "      <td>2.0</td>\n",
       "      <td>32.0</td>\n",
       "      <td>1.600000e+15</td>\n",
       "    </tr>\n",
       "    <tr>\n",
       "      <th>heart_disease_prob[1]</th>\n",
       "      <td>0.50</td>\n",
       "      <td>0.025</td>\n",
       "      <td>0.5</td>\n",
       "      <td>0.0</td>\n",
       "      <td>1.00</td>\n",
       "      <td>1.00</td>\n",
       "      <td>400.0</td>\n",
       "      <td>6349.0</td>\n",
       "      <td>1.424016e+69</td>\n",
       "    </tr>\n",
       "    <tr>\n",
       "      <th>heart_disease_prob[2]</th>\n",
       "      <td>0.50</td>\n",
       "      <td>0.025</td>\n",
       "      <td>0.5</td>\n",
       "      <td>0.0</td>\n",
       "      <td>1.00</td>\n",
       "      <td>1.00</td>\n",
       "      <td>400.0</td>\n",
       "      <td>6349.0</td>\n",
       "      <td>1.089371e+92</td>\n",
       "    </tr>\n",
       "    <tr>\n",
       "      <th>...</th>\n",
       "      <td>...</td>\n",
       "      <td>...</td>\n",
       "      <td>...</td>\n",
       "      <td>...</td>\n",
       "      <td>...</td>\n",
       "      <td>...</td>\n",
       "      <td>...</td>\n",
       "      <td>...</td>\n",
       "      <td>...</td>\n",
       "    </tr>\n",
       "    <tr>\n",
       "      <th>heart_disease_prob[96]</th>\n",
       "      <td>0.50</td>\n",
       "      <td>0.025</td>\n",
       "      <td>0.5</td>\n",
       "      <td>0.0</td>\n",
       "      <td>1.00</td>\n",
       "      <td>1.00</td>\n",
       "      <td>400.0</td>\n",
       "      <td>6349.0</td>\n",
       "      <td>5.649158e+73</td>\n",
       "    </tr>\n",
       "    <tr>\n",
       "      <th>heart_disease_prob[97]</th>\n",
       "      <td>0.50</td>\n",
       "      <td>0.025</td>\n",
       "      <td>0.5</td>\n",
       "      <td>0.0</td>\n",
       "      <td>1.00</td>\n",
       "      <td>1.00</td>\n",
       "      <td>400.0</td>\n",
       "      <td>6349.0</td>\n",
       "      <td>4.809250e+74</td>\n",
       "    </tr>\n",
       "    <tr>\n",
       "      <th>heart_disease_prob[98]</th>\n",
       "      <td>0.50</td>\n",
       "      <td>0.025</td>\n",
       "      <td>0.5</td>\n",
       "      <td>0.0</td>\n",
       "      <td>1.00</td>\n",
       "      <td>1.00</td>\n",
       "      <td>400.0</td>\n",
       "      <td>6349.0</td>\n",
       "      <td>1.558062e+71</td>\n",
       "    </tr>\n",
       "    <tr>\n",
       "      <th>heart_disease_prob[99]</th>\n",
       "      <td>0.50</td>\n",
       "      <td>0.025</td>\n",
       "      <td>0.5</td>\n",
       "      <td>0.0</td>\n",
       "      <td>1.00</td>\n",
       "      <td>1.00</td>\n",
       "      <td>400.0</td>\n",
       "      <td>6349.0</td>\n",
       "      <td>1.315185e+55</td>\n",
       "    </tr>\n",
       "    <tr>\n",
       "      <th>heart_disease_prob[100]</th>\n",
       "      <td>0.50</td>\n",
       "      <td>0.025</td>\n",
       "      <td>0.5</td>\n",
       "      <td>0.0</td>\n",
       "      <td>1.00</td>\n",
       "      <td>1.00</td>\n",
       "      <td>400.0</td>\n",
       "      <td>6349.0</td>\n",
       "      <td>3.150007e+58</td>\n",
       "    </tr>\n",
       "  </tbody>\n",
       "</table>\n",
       "<p>103 rows × 9 columns</p>\n",
       "</div>"
      ],
      "text/plain": [
       "                         Mean   MCSE  StdDev   5%   50%   95%  N_Eff  N_Eff/s  \\\n",
       "name                                                                            \n",
       "lp__                     0.00    NaN     0.0  0.0  0.00  0.00    NaN      NaN   \n",
       "alpha                   -0.16  0.630     0.9 -1.7  0.33  0.45    2.0     32.0   \n",
       "beta                    -0.24  0.820     1.2 -1.7  0.54  1.20    2.0     32.0   \n",
       "heart_disease_prob[1]    0.50  0.025     0.5  0.0  1.00  1.00  400.0   6349.0   \n",
       "heart_disease_prob[2]    0.50  0.025     0.5  0.0  1.00  1.00  400.0   6349.0   \n",
       "...                       ...    ...     ...  ...   ...   ...    ...      ...   \n",
       "heart_disease_prob[96]   0.50  0.025     0.5  0.0  1.00  1.00  400.0   6349.0   \n",
       "heart_disease_prob[97]   0.50  0.025     0.5  0.0  1.00  1.00  400.0   6349.0   \n",
       "heart_disease_prob[98]   0.50  0.025     0.5  0.0  1.00  1.00  400.0   6349.0   \n",
       "heart_disease_prob[99]   0.50  0.025     0.5  0.0  1.00  1.00  400.0   6349.0   \n",
       "heart_disease_prob[100]  0.50  0.025     0.5  0.0  1.00  1.00  400.0   6349.0   \n",
       "\n",
       "                                R_hat  \n",
       "name                                   \n",
       "lp__                              NaN  \n",
       "alpha                    1.500000e+15  \n",
       "beta                     1.600000e+15  \n",
       "heart_disease_prob[1]    1.424016e+69  \n",
       "heart_disease_prob[2]    1.089371e+92  \n",
       "...                               ...  \n",
       "heart_disease_prob[96]   5.649158e+73  \n",
       "heart_disease_prob[97]   4.809250e+74  \n",
       "heart_disease_prob[98]   1.558062e+71  \n",
       "heart_disease_prob[99]   1.315185e+55  \n",
       "heart_disease_prob[100]  3.150007e+58  \n",
       "\n",
       "[103 rows x 9 columns]"
      ]
     },
     "execution_count": 23,
     "metadata": {},
     "output_type": "execute_result"
    }
   ],
   "source": [
    "sim.summary()"
   ]
  },
  {
   "cell_type": "code",
   "execution_count": 24,
   "metadata": {},
   "outputs": [
    {
     "data": {
      "image/png": "[encoded data removed]",
      "text/plain": [
       "<Figure size 720x432 with 1 Axes>"
      ]
     },
     "metadata": {
      "needs_background": "light"
     },
     "output_type": "display_data"
    }
   ],
   "source": [
    "prior2 = sim.draws_pd()\n",
    "\n",
    "results_df = pd.DataFrame({\n",
    "    'bps': data['bps'],\n",
    "    'heart_disease_prob': prior1.iloc[:, 9:].mean(axis=0)\n",
    "})\n",
    "\n",
    "plt.figure(figsize=(10, 6))\n",
    "plt.scatter(results_df['bps'], results_df['heart_disease_prob'], alpha=0.6)\n",
    "plt.xlabel('Resting blood pressure')\n",
    "plt.ylabel('Probability of heart disease')\n",
    "plt.title('Probability of heart disease by resting blood pressure')\n",
    "plt.grid(True)\n",
    "plt.show()"
   ]
  },
  {
   "cell_type": "markdown",
   "metadata": {},
   "source": [
    "Prior 3 - thalach (maximum heart rate achieved)"
   ]
  },
  {
   "cell_type": "code",
   "execution_count": 25,
   "metadata": {},
   "outputs": [
    {
     "name": "stderr",
     "output_type": "stream",
     "text": [
      "INFO:cmdstanpy:found newer exe file, not recompiling\n",
      "INFO:cmdstanpy:CmdStan start processing\n",
      "chain 1 |\u001b[33m          \u001b[0m| 00:00 Status\n",
      "\u001b[A\n",
      "\n",
      "chain 1 |\u001b[34m██████████\u001b[0m| 00:00 Sampling completed\n",
      "chain 2 |\u001b[34m██████████\u001b[0m| 00:00 Sampling completed\n",
      "chain 3 |\u001b[34m██████████\u001b[0m| 00:00 Sampling completed\n",
      "chain 4 |\u001b[34m██████████\u001b[0m| 00:00 Sampling completed"
     ]
    },
    {
     "name": "stdout",
     "output_type": "stream",
     "text": [
      "                                                                                                                                                                                                                                                                                                                                "
     ]
    },
    {
     "name": "stderr",
     "output_type": "stream",
     "text": [
      "\n",
      "INFO:cmdstanpy:CmdStan done processing.\n"
     ]
    },
    {
     "name": "stdout",
     "output_type": "stream",
     "text": [
      "\n"
     ]
    }
   ],
   "source": [
    "np.random.seed(42)\n",
    "thalach = np.random.uniform(70, 190, 100)\n",
    "heart_disease = np.random.binomial(1, 1 / (1 + np.exp(-0.05 * (thalach - 120))))\n",
    "\n",
    "data = {\n",
    "    'N': len(bps),\n",
    "    'thalach': list(thalach),\n",
    "    'heart_disease': list(heart_disease)\n",
    "}\n",
    "\n",
    "model_age = CmdStanModel(stan_file='prior3.stan')\n",
    "sim = model_age.sample(data=data,\n",
    "                        iter_sampling=200,\n",
    "                        iter_warmup=1000,\n",
    "                        chains=4,\n",
    "                        fixed_param=True,\n",
    "                        seed=242522,)"
   ]
  },
  {
   "cell_type": "code",
   "execution_count": 26,
   "metadata": {},
   "outputs": [
    {
     "data": {
      "image/png": "[encoded data removed]",
      "text/plain": [
       "<Figure size 720x432 with 1 Axes>"
      ]
     },
     "metadata": {
      "needs_background": "light"
     },
     "output_type": "display_data"
    }
   ],
   "source": [
    "prior3 = sim.draws_pd()\n",
    "\n",
    "results_df = pd.DataFrame({\n",
    "    'thalach': data['thalach'],\n",
    "    'heart_disease_prob': prior1.iloc[:, 9:].mean(axis=0)  # Mean probability across samples\n",
    "})\n",
    "\n",
    "# Plotting the results with matplotlib\n",
    "plt.figure(figsize=(10, 6))\n",
    "plt.scatter(results_df['thalach'], results_df['heart_disease_prob'], alpha=0.6)\n",
    "plt.xlabel('Maximum heart rate achieved')\n",
    "plt.ylabel('Probability of heart disease')\n",
    "plt.title('Probability of heart disease by maximum heart rate achieved')\n",
    "plt.grid(True)\n",
    "plt.show()"
   ]
  },
  {
   "cell_type": "markdown",
   "metadata": {},
   "source": [
    "## Posterior"
   ]
  },
  {
   "cell_type": "code",
   "execution_count": 70,
   "metadata": {},
   "outputs": [
    {
     "data": {
      "text/html": [
       "<div>\n",
       "<style scoped>\n",
       "    .dataframe tbody tr th:only-of-type {\n",
       "        vertical-align: middle;\n",
       "    }\n",
       "\n",
       "    .dataframe tbody tr th {\n",
       "        vertical-align: top;\n",
       "    }\n",
       "\n",
       "    .dataframe thead th {\n",
       "        text-align: right;\n",
       "    }\n",
       "</style>\n",
       "<table border=\"1\" class=\"dataframe\">\n",
       "  <thead>\n",
       "    <tr style=\"text-align: right;\">\n",
       "      <th></th>\n",
       "      <th>age</th>\n",
       "      <th>trestbps</th>\n",
       "      <th>thalach</th>\n",
       "    </tr>\n",
       "  </thead>\n",
       "  <tbody>\n",
       "    <tr>\n",
       "      <th>0</th>\n",
       "      <td>63</td>\n",
       "      <td>145</td>\n",
       "      <td>150</td>\n",
       "    </tr>\n",
       "    <tr>\n",
       "      <th>1</th>\n",
       "      <td>37</td>\n",
       "      <td>130</td>\n",
       "      <td>187</td>\n",
       "    </tr>\n",
       "    <tr>\n",
       "      <th>2</th>\n",
       "      <td>41</td>\n",
       "      <td>130</td>\n",
       "      <td>172</td>\n",
       "    </tr>\n",
       "    <tr>\n",
       "      <th>3</th>\n",
       "      <td>56</td>\n",
       "      <td>120</td>\n",
       "      <td>178</td>\n",
       "    </tr>\n",
       "    <tr>\n",
       "      <th>4</th>\n",
       "      <td>57</td>\n",
       "      <td>120</td>\n",
       "      <td>163</td>\n",
       "    </tr>\n",
       "    <tr>\n",
       "      <th>...</th>\n",
       "      <td>...</td>\n",
       "      <td>...</td>\n",
       "      <td>...</td>\n",
       "    </tr>\n",
       "    <tr>\n",
       "      <th>298</th>\n",
       "      <td>57</td>\n",
       "      <td>140</td>\n",
       "      <td>123</td>\n",
       "    </tr>\n",
       "    <tr>\n",
       "      <th>299</th>\n",
       "      <td>45</td>\n",
       "      <td>110</td>\n",
       "      <td>132</td>\n",
       "    </tr>\n",
       "    <tr>\n",
       "      <th>300</th>\n",
       "      <td>68</td>\n",
       "      <td>144</td>\n",
       "      <td>141</td>\n",
       "    </tr>\n",
       "    <tr>\n",
       "      <th>301</th>\n",
       "      <td>57</td>\n",
       "      <td>130</td>\n",
       "      <td>115</td>\n",
       "    </tr>\n",
       "    <tr>\n",
       "      <th>302</th>\n",
       "      <td>57</td>\n",
       "      <td>130</td>\n",
       "      <td>174</td>\n",
       "    </tr>\n",
       "  </tbody>\n",
       "</table>\n",
       "<p>303 rows × 3 columns</p>\n",
       "</div>"
      ],
      "text/plain": [
       "     age  trestbps  thalach\n",
       "0     63       145      150\n",
       "1     37       130      187\n",
       "2     41       130      172\n",
       "3     56       120      178\n",
       "4     57       120      163\n",
       "..   ...       ...      ...\n",
       "298   57       140      123\n",
       "299   45       110      132\n",
       "300   68       144      141\n",
       "301   57       130      115\n",
       "302   57       130      174\n",
       "\n",
       "[303 rows x 3 columns]"
      ]
     },
     "execution_count": 70,
     "metadata": {},
     "output_type": "execute_result"
    }
   ],
   "source": [
    "target = data['target']\n",
    "data1"
   ]
  },
  {
   "cell_type": "code",
   "execution_count": 75,
   "metadata": {},
   "outputs": [],
   "source": [
    "scaler = StandardScaler()\n",
    "predictors_scaled = scaler.fit_transform(data1)"
   ]
  },
  {
   "cell_type": "code",
   "execution_count": 77,
   "metadata": {},
   "outputs": [
    {
     "name": "stderr",
     "output_type": "stream",
     "text": [
      "INFO:cmdstanpy:found newer exe file, not recompiling\n"
     ]
    }
   ],
   "source": [
    "stan_data = {\n",
    "    'N': predictors.shape[0],\n",
    "    'K': predictors.shape[1],\n",
    "    'X': predictors_scaled,\n",
    "    'y': target.values\n",
    "}\n",
    "\n",
    "model = cmdstanpy.CmdStanModel(stan_file='posterior1.stan')\n"
   ]
  },
  {
   "cell_type": "code",
   "execution_count": 79,
   "metadata": {},
   "outputs": [
    {
     "name": "stderr",
     "output_type": "stream",
     "text": [
      "INFO:cmdstanpy:CmdStan start processing\n",
      "chain 1 |\u001b[33m          \u001b[0m| 00:00 Status\n",
      "\u001b[A\n",
      "\n",
      "chain 1 |\u001b[33m▋         \u001b[0m| 00:00 Iteration:    1 / 3000 [  0%]  (Warmup)\n",
      "\u001b[A\n",
      "\n",
      "chain 1 |\u001b[33m█▉        \u001b[0m| 00:00 Iteration:  400 / 3000 [ 13%]  (Warmup)\n",
      "\u001b[A\n",
      "\n",
      "chain 1 |\u001b[33m███▍      \u001b[0m| 00:00 Iteration:  900 / 3000 [ 30%]  (Warmup)\n",
      "\u001b[A\n",
      "\n",
      "chain 1 |\u001b[34m████▋     \u001b[0m| 00:00 Iteration: 1200 / 3000 [ 40%]  (Sampling)\n",
      "\u001b[A\n",
      "\n",
      "chain 1 |\u001b[34m█████▉    \u001b[0m| 00:00 Iteration: 1600 / 3000 [ 53%]  (Sampling)\n",
      "\u001b[A\n",
      "\n",
      "chain 1 |\u001b[34m███████▏  \u001b[0m| 00:00 Iteration: 2000 / 3000 [ 66%]  (Sampling)\n",
      "\u001b[A\n",
      "\n",
      "chain 1 |\u001b[34m████████▍ \u001b[0m| 00:00 Iteration: 2400 / 3000 [ 80%]  (Sampling)\n",
      "\u001b[A\n",
      "\n",
      "chain 1 |\u001b[34m██████████\u001b[0m| 00:00 Sampling completed                       \n",
      "chain 2 |\u001b[34m██████████\u001b[0m| 00:00 Sampling completed                       \n",
      "chain 3 |\u001b[34m██████████\u001b[0m| 00:00 Sampling completed                       \n",
      "chain 4 |\u001b[34m██████████\u001b[0m| 00:00 Sampling completed                       "
     ]
    },
    {
     "name": "stdout",
     "output_type": "stream",
     "text": [
      "                                                                                                                                                                                                                                                                                                                                "
     ]
    },
    {
     "name": "stderr",
     "output_type": "stream",
     "text": [
      "\n",
      "INFO:cmdstanpy:CmdStan done processing.\n"
     ]
    },
    {
     "name": "stdout",
     "output_type": "stream",
     "text": [
      "\n"
     ]
    },
    {
     "name": "stderr",
     "output_type": "stream",
     "text": [
      "/usr/local/lib/python3.9/site-packages/sklearn/base.py:420: UserWarning: X does not have valid feature names, but StandardScaler was fitted with feature names\n",
      "  warnings.warn(\n"
     ]
    },
    {
     "name": "stdout",
     "output_type": "stream",
     "text": [
      "Predicted probability of heart disease: 0.68\n"
     ]
    },
    {
     "data": {
      "image/png": "[encoded data removed]",
      "text/plain": [
       "<Figure size 1080x504 with 1 Axes>"
      ]
     },
     "metadata": {
      "needs_background": "light"
     },
     "output_type": "display_data"
    },
    {
     "data": {
      "image/png": "[encoded data removed]",
      "text/plain": [
       "<Figure size 1080x504 with 1 Axes>"
      ]
     },
     "metadata": {
      "needs_background": "light"
     },
     "output_type": "display_data"
    },
    {
     "data": {
      "image/png": "[encoded data removed]",
      "text/plain": [
       "<Figure size 1080x504 with 1 Axes>"
      ]
     },
     "metadata": {
      "needs_background": "light"
     },
     "output_type": "display_data"
    }
   ],
   "source": [
    "\n",
    "fit = model.sample(data=stan_data, iter_sampling=2000, chains=4)\n",
    "\n",
    "results = fit.draws_pd()\n",
    "\n",
    "feature_names = ['age', 'trestbps', 'thalach']\n",
    "param_names = [f'beta[{i+1}]' for i in range(len(feature_names))]\n",
    "param_mapping = dict(zip(param_names, feature_names))\n",
    "\n",
    "beta_columns = [col for col in results.columns if col in param_mapping]\n",
    "\n",
    "beta_samples = results[beta_columns].values\n",
    "\n",
    "new_data = np.array([60, 140, 172])  # example new data point\n",
    "new_data_scaled = scaler.transform([new_data])\n",
    "\n",
    "def sigmoid(x):\n",
    "    return 1 / (1 + np.exp(-x))\n",
    "\n",
    "# Predictive probabilities from posterior samples\n",
    "pred_probs = sigmoid(np.dot(beta_samples, new_data_scaled.T))\n",
    "\n",
    "# Aggregate predictions\n",
    "predicted_prob = np.mean(pred_probs)\n",
    "print(f'Predicted probability of heart disease: {predicted_prob:.2f}')\n",
    "\n",
    "# Plot the posterior distributions in separate figures\n",
    "for column in beta_columns:\n",
    "    plt.figure(figsize=(15,7))\n",
    "    sns.histplot(results[column], kde=True)\n",
    "    param_name = param_mapping[column]\n",
    "    plt.title(f'Posterior Distribution of {param_name}')\n",
    "    plt.xlabel('Value')\n",
    "    plt.ylabel('Density')\n",
    "    plt.grid(True)\n",
    "    plt.show()"
   ]
  },
  {
   "cell_type": "code",
   "execution_count": 57,
   "metadata": {},
   "outputs": [
    {
     "name": "stdout",
     "output_type": "stream",
     "text": [
      "Predicted probability of heart disease for age 60: 0.26\n"
     ]
    }
   ],
   "source": [
    "# Sample from the posterior distribution of the age coefficient\n",
    "beta_age_samples = results['beta[1]'].values  # Assuming 'beta[1]' corresponds to 'age'\n",
    "\n",
    "# New data example: age = 60\n",
    "new_age = 82\n",
    "\n",
    "# Calculate the linear predictor (log-odds) for each sample\n",
    "log_odds = beta_age_samples * new_age\n",
    "\n",
    "# Convert log-odds to probability\n",
    "def sigmoid(x):\n",
    "    return 1 / (1 + np.exp(-x))\n",
    "\n",
    "probabilities = sigmoid(log_odds)\n",
    "\n",
    "# Aggregate the probabilities\n",
    "predicted_prob = np.mean(probabilities)\n",
    "print(f'Predicted probability of heart disease for age 60: {predicted_prob:.2f}')\n"
   ]
  },
  {
   "cell_type": "code",
   "execution_count": 64,
   "metadata": {},
   "outputs": [
    {
     "name": "stdout",
     "output_type": "stream",
     "text": [
      "Predicted probability of heart disease for trestbps 140: 0.02\n"
     ]
    }
   ],
   "source": [
    "# Sample from the posterior distribution of the trestbps coefficient\n",
    "beta_trestbps_samples = results['beta[2]'].values  # Assuming 'beta[2]' corresponds to 'trestbps'\n",
    "\n",
    "# New data example: trestbps = 140\n",
    "new_trestbps = 140\n",
    "\n",
    "# Calculate the linear predictor (log-odds) for each sample\n",
    "log_odds = beta_trestbps_samples * new_trestbps\n",
    "\n",
    "# Convert log-odds to probability\n",
    "def sigmoid(x):\n",
    "    return 1 / (1 + np.exp(-x))\n",
    "\n",
    "probabilities = sigmoid(log_odds)\n",
    "\n",
    "# Aggregate the probabilities\n",
    "predicted_prob = np.mean(probabilities)\n",
    "print(f'Predicted probability of heart disease for trestbps 140: {predicted_prob:.2f}')\n"
   ]
  }
 ],
 "metadata": {
  "kernelspec": {
   "display_name": "Python 3 (ipykernel)",
   "language": "python",
   "name": "python3"
  },
  "language_info": {
   "codemirror_mode": {
    "name": "ipython",
    "version": 3
   },
   "file_extension": ".py",
   "mimetype": "text/x-python",
   "name": "python",
   "nbconvert_exporter": "python",
   "pygments_lexer": "ipython3",
   "version": "3.9.11"
  }
 },
 "nbformat": 4,
 "nbformat_minor": 2
}
